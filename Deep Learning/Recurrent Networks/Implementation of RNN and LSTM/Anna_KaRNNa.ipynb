{
  "nbformat": 4,
  "nbformat_minor": 0,
  "metadata": {
    "colab": {
      "name": "Anna_KaRNNa.ipynb",
      "provenance": [],
      "collapsed_sections": [],
      "machine_shape": "hm"
    },
    "kernelspec": {
      "name": "python3",
      "display_name": "Python 3"
    },
    "accelerator": "GPU"
  },
  "cells": [
    {
      "cell_type": "markdown",
      "metadata": {
        "id": "NssdC2ucQyp4"
      },
      "source": [
        "# Anna KaRNNa\r\n",
        "\r\n",
        "In this notebook, we'll build a character-wise RNN trained on Anna Karenina, one of my all-time favorite books. It'll be able to generate new text based on the text from the book.\r\n",
        "\r\n",
        "This network is based off of Andrej Karpathy's [post on RNNs](http://karpathy.github.io/2015/05/21/rnn-effectiveness/) and [implementation in Torch](https://github.com/karpathy/char-rnn). Also, some information [here at r2rt](http://r2rt.com/recurrent-neural-networks-in-tensorflow-ii.html) and from [Sherjil Ozair](https://github.com/sherjilozair/char-rnn-tensorflow) on GitHub. Below is the general architecture of the character-wise RNN.\r\n",
        "\r\n",
        "<img src=\"assets/charseq.jpeg\" width=\"500\">"
      ]
    },
    {
      "cell_type": "code",
      "metadata": {
        "id": "xa80DFeFQ2RG"
      },
      "source": [
        "%tensorflow_version 1.x"
      ],
      "execution_count": null,
      "outputs": []
    },
    {
      "cell_type": "code",
      "metadata": {
        "id": "Fj3ncJB9QoTY"
      },
      "source": [
        "import time\r\n",
        "from collections import namedtuple\r\n",
        "\r\n",
        "import numpy as np\r\n",
        "import tensorflow as tf"
      ],
      "execution_count": null,
      "outputs": []
    },
    {
      "cell_type": "markdown",
      "metadata": {
        "id": "heNN6kyqRKK9"
      },
      "source": [
        "First we'll load the text file and convert it into integers for our network to use. Here I'm creating a couple dictionaries to convert the characters to and from integers. Encoding the characters as integers makes it easier to use as input in the network."
      ]
    },
    {
      "cell_type": "code",
      "metadata": {
        "id": "hXT_XPtjRU4_"
      },
      "source": [
        "!rm -r anna.txt\r\n",
        "!wget -q https://github.com/bhupendpatil/Practice/blob/master/Deep%20Learning/Recurrent%20Networks/Implementation%20of%20RNN%20and%20LSTM/anna.txt"
      ],
      "execution_count": 5,
      "outputs": []
    },
    {
      "cell_type": "code",
      "metadata": {
        "id": "2S04qbhXRDld"
      },
      "source": [
        "with open('anna.txt', 'r') as f:\r\n",
        "    text=f.read()\r\n",
        "vocab = sorted(set(text))\r\n",
        "vocab_to_int = {c: i for i, c in enumerate(vocab)}\r\n",
        "int_to_vocab = dict(enumerate(vocab))\r\n",
        "encoded = np.array([vocab_to_int[c] for c in text], dtype=np.int32)"
      ],
      "execution_count": null,
      "outputs": []
    },
    {
      "cell_type": "markdown",
      "metadata": {
        "id": "XApO-wpwRiNM"
      },
      "source": [
        "Let's check out the first 100 characters, make sure everything is peachy. According to the [American Book Review](http://americanbookreview.org/100bestlines.asp), this is the 6th best first line of a book ever."
      ]
    },
    {
      "cell_type": "code",
      "metadata": {
        "id": "IXZO_cBHRioZ"
      },
      "source": [
        "text[:100]"
      ],
      "execution_count": null,
      "outputs": []
    },
    {
      "cell_type": "markdown",
      "metadata": {
        "id": "aA6qyMSzRkYE"
      },
      "source": [
        "And we can see the characters encoded as integers."
      ]
    },
    {
      "cell_type": "code",
      "metadata": {
        "id": "tPFGKPDzRnEV"
      },
      "source": [
        "encoded[:100]"
      ],
      "execution_count": null,
      "outputs": []
    },
    {
      "cell_type": "markdown",
      "metadata": {
        "id": "IXLYYYXLRpmE"
      },
      "source": [
        "Since the network is working with individual characters, it's similar to a classification problem in which we are trying to predict the next character from the previous text. Here's how many 'classes' our network has to pick from."
      ]
    },
    {
      "cell_type": "code",
      "metadata": {
        "id": "TJ76fTiuRq-h"
      },
      "source": [
        "len(vocab)"
      ],
      "execution_count": null,
      "outputs": []
    },
    {
      "cell_type": "markdown",
      "metadata": {
        "id": "mHCl8v88R4ea"
      },
      "source": [
        "## Making training mini-batches\r\n",
        "\r\n",
        "Here is where we'll make our mini-batches for training. Remember that we want our batches to be multiple sequences of some desired number of sequence steps. Considering a simple example, our batches would look like this:\r\n",
        "\r\n",
        "<img src=\"assets/sequence_batching@1x.png\" width=500px>\r\n",
        "\r\n",
        "\r\n",
        "<br>\r\n",
        "\r\n",
        "We start with our text encoded as integers in one long array in `encoded`. Let's create a function that will give us an iterator for our batches. I like using [generator functions](https://jeffknupp.com/blog/2013/04/07/improve-your-python-yield-and-generators-explained/) to do this. Then we can pass `encoded` into this function and get our batch generator.\r\n",
        "\r\n",
        "The first thing we need to do is discard some of the text so we only have completely full batches. Each batch contains $N \\times M$ characters, where $N$ is the batch size (the number of sequences) and $M$ is the number of steps. Then, to get the total number of batches, $K$, we can make from the array `arr`, you divide the length of `arr` by the number of characters per batch. Once you know the number of batches, you can get the total number of characters to keep from `arr`, $N * M * K$.\r\n",
        "\r\n",
        "After that, we need to split `arr` into $N$ sequences. You can do this using `arr.reshape(size)` where `size` is a tuple containing the dimensions sizes of the reshaped array. We know we want $N$ sequences (`batch_size` below), let's make that the size of the first dimension. For the second dimension, you can use `-1` as a placeholder in the size, it'll fill up the array with the appropriate data for you. After this, you should have an array that is $N \\times (M * K)$.\r\n",
        "\r\n",
        "Now that we have this array, we can iterate through it to get our batches. The idea is each batch is a $N \\times M$ window on the $N \\times (M * K)$ array. For each subsequent batch, the window moves over by `n_steps`. We also want to create both the input and target arrays. Remember that the targets are the inputs shifted over one character. \r\n",
        "\r\n",
        "The way I like to do this window is use `range` to take steps of size `n_steps` from $0$ to `arr.shape[1]`, the total number of steps in each sequence. That way, the integers you get from `range` always point to the start of a batch, and each window is `n_steps` wide.\r\n",
        "\r\n",
        "> **Exercise:** Write the code for creating batches in the function below. The exercises in this notebook _will not be easy_. I've provided a notebook with solutions alongside this notebook. If you get stuck, checkout the solutions. The most important thing is that you don't copy and paste the code into here, **type out the solution code yourself.**"
      ]
    },
    {
      "cell_type": "code",
      "metadata": {
        "id": "k24GCjCCR4Dy"
      },
      "source": [
        "def get_batches(arr, batch_size, n_steps):\r\n",
        "    '''Create a generator that returns batches of size\r\n",
        "       batch_size x n_steps from arr.\r\n",
        "       \r\n",
        "       Arguments\r\n",
        "       ---------\r\n",
        "       arr: Array you want to make batches from\r\n",
        "       batch_size: Batch size, the number of sequences per batch\r\n",
        "       n_steps: Number of sequence steps per batch\r\n",
        "    '''\r\n",
        "    # Get the number of characters per batch and number of batches we can make\r\n",
        "    characters_per_batch = \r\n",
        "    n_batches = \r\n",
        "    \r\n",
        "    # Keep only enough characters to make full batches\r\n",
        "    arr = \r\n",
        "    \r\n",
        "    # Reshape into batch_size rows\r\n",
        "    arr = \r\n",
        "    \r\n",
        "    for n in range(0, arr.shape[1], n_steps):\r\n",
        "        # The features\r\n",
        "        x = \r\n",
        "        # The targets, shifted by one\r\n",
        "        y = \r\n",
        "        yield x, y"
      ],
      "execution_count": null,
      "outputs": []
    },
    {
      "cell_type": "markdown",
      "metadata": {
        "id": "ITmkWg7KR7WE"
      },
      "source": [
        "Now I'll make my data sets and we can check out what's going on here. Here I'm going to use a batch size of 10 and 50 sequence steps."
      ]
    },
    {
      "cell_type": "code",
      "metadata": {
        "id": "lvuFlx0qSCEK"
      },
      "source": [
        "batches = get_batches(encoded, 10, 50)\r\n",
        "x, y = next(batches)"
      ],
      "execution_count": null,
      "outputs": []
    },
    {
      "cell_type": "code",
      "metadata": {
        "id": "QNgvLSviSEYi"
      },
      "source": [
        "print('x\\n', x[:10, :10])\r\n",
        "print('\\ny\\n', y[:10, :10])"
      ],
      "execution_count": null,
      "outputs": []
    },
    {
      "cell_type": "markdown",
      "metadata": {
        "id": "mQjjSx1XSEDi"
      },
      "source": [
        "If you implemented `get_batches` correctly, the above output should look something like \r\n",
        "```\r\n",
        "x\r\n",
        " [[55 63 69 22  6 76 45  5 16 35]\r\n",
        " [ 5 69  1  5 12 52  6  5 56 52]\r\n",
        " [48 29 12 61 35 35  8 64 76 78]\r\n",
        " [12  5 24 39 45 29 12 56  5 63]\r\n",
        " [ 5 29  6  5 29 78 28  5 78 29]\r\n",
        " [ 5 13  6  5 36 69 78 35 52 12]\r\n",
        " [63 76 12  5 18 52  1 76  5 58]\r\n",
        " [34  5 73 39  6  5 12 52 36  5]\r\n",
        " [ 6  5 29 78 12 79  6 61  5 59]\r\n",
        " [ 5 78 69 29 24  5  6 52  5 63]]\r\n",
        "\r\n",
        "y\r\n",
        " [[63 69 22  6 76 45  5 16 35 35]\r\n",
        " [69  1  5 12 52  6  5 56 52 29]\r\n",
        " [29 12 61 35 35  8 64 76 78 28]\r\n",
        " [ 5 24 39 45 29 12 56  5 63 29]\r\n",
        " [29  6  5 29 78 28  5 78 29 45]\r\n",
        " [13  6  5 36 69 78 35 52 12 43]\r\n",
        " [76 12  5 18 52  1 76  5 58 52]\r\n",
        " [ 5 73 39  6  5 12 52 36  5 78]\r\n",
        " [ 5 29 78 12 79  6 61  5 59 63]\r\n",
        " [78 69 29 24  5  6 52  5 63 76]]\r\n",
        " ```\r\n",
        " although the exact numbers will be different. Check to make sure the data is shifted over one step for `y`."
      ]
    },
    {
      "cell_type": "markdown",
      "metadata": {
        "id": "6H-uxaMhSNLC"
      },
      "source": [
        "## Building the model\r\n",
        "\r\n",
        "Below is where you'll build the network. We'll break it up into parts so it's easier to reason about each bit. Then we can connect them up into the whole network.\r\n",
        "\r\n",
        "<img src=\"assets/charRNN.png\" width=500px>\r\n",
        "\r\n",
        "\r\n",
        "### Inputs\r\n",
        "\r\n",
        "First off we'll create our input placeholders. As usual we need placeholders for the training data and the targets. We'll also create a placeholder for dropout layers called `keep_prob`. This will be a scalar, that is a 0-D tensor. To make a scalar, you create a placeholder without giving it a size.\r\n",
        "\r\n",
        "> **Exercise:** Create the input placeholders in the function below."
      ]
    },
    {
      "cell_type": "code",
      "metadata": {
        "id": "auV4pEjUSHtN"
      },
      "source": [
        "def build_inputs(batch_size, num_steps):\r\n",
        "    ''' Define placeholders for inputs, targets, and dropout \r\n",
        "    \r\n",
        "        Arguments\r\n",
        "        ---------\r\n",
        "        batch_size: Batch size, number of sequences per batch\r\n",
        "        num_steps: Number of sequence steps in a batch\r\n",
        "        \r\n",
        "    '''\r\n",
        "    # Declare placeholders we'll feed into the graph\r\n",
        "    inputs = \r\n",
        "    targets = \r\n",
        "    \r\n",
        "    # Keep probability placeholder for drop out layers\r\n",
        "    keep_prob = \r\n",
        "    \r\n",
        "    return inputs, targets, keep_prob"
      ],
      "execution_count": null,
      "outputs": []
    },
    {
      "cell_type": "markdown",
      "metadata": {
        "id": "-KQ6YwtISQA7"
      },
      "source": [
        "### LSTM Cell\r\n",
        "\r\n",
        "Here we will create the LSTM cell we'll use in the hidden layer. We'll use this cell as a building block for the RNN. So we aren't actually defining the RNN here, just the type of cell we'll use in the hidden layer.\r\n",
        "\r\n",
        "We first create a basic LSTM cell with\r\n",
        "\r\n",
        "```python\r\n",
        "lstm = tf.contrib.rnn.BasicLSTMCell(num_units)\r\n",
        "```\r\n",
        "\r\n",
        "where `num_units` is the number of units in the hidden layers in the cell. Then we can add dropout by wrapping it with \r\n",
        "\r\n",
        "```python\r\n",
        "tf.contrib.rnn.DropoutWrapper(lstm, output_keep_prob=keep_prob)\r\n",
        "```\r\n",
        "You pass in a cell and it will automatically add dropout to the inputs or outputs. Finally, we can stack up the LSTM cells into layers with [`tf.contrib.rnn.MultiRNNCell`](https://www.tensorflow.org/versions/r1.0/api_docs/python/tf/contrib/rnn/MultiRNNCell). With this, you pass in a list of cells and it will send the output of one cell into the next cell. Previously with TensorFlow 1.0, you could do this\r\n",
        "\r\n",
        "```python\r\n",
        "tf.contrib.rnn.MultiRNNCell([cell]*num_layers)\r\n",
        "```\r\n",
        "\r\n",
        "This might look a little weird if you know Python well because this will create a list of the same `cell` object. However, TensorFlow 1.0 will create different weight matrices for all `cell` objects. But, starting with TensorFlow 1.1 you actually need to create new cell objects in the list. To get it to work in TensorFlow 1.1, it should look like\r\n",
        "\r\n",
        "```python\r\n",
        "def build_cell(num_units, keep_prob):\r\n",
        "    lstm = tf.contrib.rnn.BasicLSTMCell(num_units)\r\n",
        "    drop = tf.contrib.rnn.DropoutWrapper(lstm, output_keep_prob=keep_prob)\r\n",
        "    \r\n",
        "    return drop\r\n",
        "    \r\n",
        "tf.contrib.rnn.MultiRNNCell([build_cell(num_units, keep_prob) for _ in range(num_layers)])\r\n",
        "```\r\n",
        "\r\n",
        "Even though this is actually multiple LSTM cells stacked on each other, you can treat the multiple layers as one cell.\r\n",
        "\r\n",
        "We also need to create an initial cell state of all zeros. This can be done like so\r\n",
        "\r\n",
        "```python\r\n",
        "initial_state = cell.zero_state(batch_size, tf.float32)\r\n",
        "```\r\n",
        "\r\n",
        "Below, we implement the `build_lstm` function to create these LSTM cells and the initial state."
      ]
    },
    {
      "cell_type": "code",
      "metadata": {
        "id": "0egcgI2JSTnB"
      },
      "source": [
        "def build_lstm(lstm_size, num_layers, batch_size, keep_prob):\r\n",
        "    ''' Build LSTM cell.\r\n",
        "    \r\n",
        "        Arguments\r\n",
        "        ---------\r\n",
        "        keep_prob: Scalar tensor (tf.placeholder) for the dropout keep probability\r\n",
        "        lstm_size: Size of the hidden layers in the LSTM cells\r\n",
        "        num_layers: Number of LSTM layers\r\n",
        "        batch_size: Batch size\r\n",
        "\r\n",
        "    '''\r\n",
        "    ### Build the LSTM Cell\r\n",
        "    # Use a basic LSTM cell\r\n",
        "    lstm = \r\n",
        "    \r\n",
        "    # Add dropout to the cell outputs\r\n",
        "    drop = \r\n",
        "    \r\n",
        "    # Stack up multiple LSTM layers, for deep learning\r\n",
        "    cell = \r\n",
        "    initial_state = \r\n",
        "    \r\n",
        "    return cell, initial_state"
      ],
      "execution_count": null,
      "outputs": []
    },
    {
      "cell_type": "markdown",
      "metadata": {
        "id": "JM3luSa4SVvD"
      },
      "source": [
        "### RNN Output\r\n",
        "\r\n",
        "Here we'll create the output layer. We need to connect the output of the RNN cells to a full connected layer with a softmax output. The softmax output gives us a probability distribution we can use to predict the next character, so we want this layer to have size $C$, the number of classes/characters we have in our text.\r\n",
        "\r\n",
        "If our input has batch size $N$, number of steps $M$, and the hidden layer has $L$ hidden units, then the output is a 3D tensor with size $N \\times M \\times L$. The output of each LSTM cell has size $L$, we have $M$ of them, one for each sequence step, and we have $N$ sequences. So the total size is $N \\times M \\times L$. \r\n",
        "\r\n",
        "We are using the same fully connected layer, the same weights, for each of the outputs. Then, to make things easier, we should reshape the outputs into a 2D tensor with shape $(M * N) \\times L$. That is, one row for each sequence and step, where the values of each row are the output from the LSTM cells. We get the LSTM output as a list, `lstm_output`. First we need to concatenate this whole list into one array with [`tf.concat`](https://www.tensorflow.org/api_docs/python/tf/concat). Then, reshape it (with `tf.reshape`) to size $(M * N) \\times L$.\r\n",
        "\r\n",
        "One we have the outputs reshaped, we can do the matrix multiplication with the weights. We need to wrap the weight and bias variables in a variable scope with `tf.variable_scope(scope_name)` because there are weights being created in the LSTM cells. TensorFlow will throw an error if the weights created here have the same names as the weights created in the LSTM cells, which they will be default. To avoid this, we wrap the variables in a variable scope so we can give them unique names.\r\n",
        "\r\n",
        "> **Exercise:** Implement the output layer in the function below."
      ]
    },
    {
      "cell_type": "code",
      "metadata": {
        "id": "slpW6X7USYGp"
      },
      "source": [
        "def build_output(lstm_output, in_size, out_size):\r\n",
        "    ''' Build a softmax layer, return the softmax output and logits.\r\n",
        "    \r\n",
        "        Arguments\r\n",
        "        ---------\r\n",
        "        \r\n",
        "        lstm_output: List of output tensors from the LSTM layer\r\n",
        "        in_size: Size of the input tensor, for example, size of the LSTM cells\r\n",
        "        out_size: Size of this softmax layer\r\n",
        "    \r\n",
        "    '''\r\n",
        "\r\n",
        "    # Reshape output so it's a bunch of rows, one row for each step for each sequence.\r\n",
        "    # Concatenate lstm_output over axis 1 (the columns)\r\n",
        "    seq_output = \r\n",
        "    # Reshape seq_output to a 2D tensor with lstm_size columns\r\n",
        "    x = \r\n",
        "    \r\n",
        "    # Connect the RNN outputs to a softmax layer\r\n",
        "    with tf.variable_scope('softmax'):\r\n",
        "        # Create the weight and bias variables here\r\n",
        "        softmax_w = \r\n",
        "        softmax_b = \r\n",
        "    \r\n",
        "    # Since output is a bunch of rows of RNN cell outputs, logits will be a bunch\r\n",
        "    # of rows of logit outputs, one for each step and sequence\r\n",
        "    logits = \r\n",
        "    \r\n",
        "    # Use softmax to get the probabilities for predicted characters\r\n",
        "    out = \r\n",
        "    \r\n",
        "    return out, logits"
      ],
      "execution_count": null,
      "outputs": []
    },
    {
      "cell_type": "markdown",
      "metadata": {
        "id": "90hLsIIHSaNJ"
      },
      "source": [
        "### Training loss\r\n",
        "\r\n",
        "Next up is the training loss. We get the logits and targets and calculate the softmax cross-entropy loss. First we need to one-hot encode the targets, we're getting them as encoded characters. Then, reshape the one-hot targets so it's a 2D tensor with size $(M*N) \\times C$ where $C$ is the number of classes/characters we have. Remember that we reshaped the LSTM outputs and ran them through a fully connected layer with $C$ units. So our logits will also have size $(M*N) \\times C$.\r\n",
        "\r\n",
        "Then we run the logits and targets through `tf.nn.softmax_cross_entropy_with_logits` and find the mean to get the loss.\r\n",
        "\r\n",
        ">**Exercise:** Implement the loss calculation in the function below."
      ]
    },
    {
      "cell_type": "code",
      "metadata": {
        "id": "qzv_K6Y2ScSa"
      },
      "source": [
        "def build_loss(logits, targets, lstm_size, num_classes):\r\n",
        "    ''' Calculate the loss from the logits and the targets.\r\n",
        "    \r\n",
        "        Arguments\r\n",
        "        ---------\r\n",
        "        logits: Logits from final fully connected layer\r\n",
        "        targets: Targets for supervised learning\r\n",
        "        lstm_size: Number of LSTM hidden units\r\n",
        "        num_classes: Number of classes in targets\r\n",
        "        \r\n",
        "    '''\r\n",
        "    \r\n",
        "    # One-hot encode targets and reshape to match logits, one row per sequence per step\r\n",
        "    y_one_hot = \r\n",
        "    y_reshaped =  \r\n",
        "    \r\n",
        "    # Softmax cross entropy loss\r\n",
        "    loss = \r\n",
        "    \r\n",
        "    return loss"
      ],
      "execution_count": null,
      "outputs": []
    },
    {
      "cell_type": "markdown",
      "metadata": {
        "id": "yhrizIuPSesw"
      },
      "source": [
        "### Optimizer\r\n",
        "\r\n",
        "Here we build the optimizer. Normal RNNs have have issues gradients exploding and disappearing. LSTMs fix the disappearance problem, but the gradients can still grow without bound. To fix this, we can clip the gradients above some threshold. That is, if a gradient is larger than that threshold, we set it to the threshold. This will ensure the gradients never grow overly large. Then we use an AdamOptimizer for the learning step."
      ]
    },
    {
      "cell_type": "code",
      "metadata": {
        "id": "e8wI_AY0Sg_Z"
      },
      "source": [
        "def build_optimizer(loss, learning_rate, grad_clip):\r\n",
        "    ''' Build optmizer for training, using gradient clipping.\r\n",
        "    \r\n",
        "        Arguments:\r\n",
        "        loss: Network loss\r\n",
        "        learning_rate: Learning rate for optimizer\r\n",
        "    \r\n",
        "    '''\r\n",
        "    \r\n",
        "    # Optimizer for training, using gradient clipping to control exploding gradients\r\n",
        "    tvars = tf.trainable_variables()\r\n",
        "    grads, _ = tf.clip_by_global_norm(tf.gradients(loss, tvars), grad_clip)\r\n",
        "    train_op = tf.train.AdamOptimizer(learning_rate)\r\n",
        "    optimizer = train_op.apply_gradients(zip(grads, tvars))\r\n",
        "    \r\n",
        "    return optimizer"
      ],
      "execution_count": null,
      "outputs": []
    },
    {
      "cell_type": "markdown",
      "metadata": {
        "id": "Q41p4DwySiop"
      },
      "source": [
        "### Build the network\r\n",
        "\r\n",
        "Now we can put all the pieces together and build a class for the network. To actually run data through the LSTM cells, we will use [`tf.nn.dynamic_rnn`](https://www.tensorflow.org/versions/r1.0/api_docs/python/tf/nn/dynamic_rnn). This function will pass the hidden and cell states across LSTM cells appropriately for us. It returns the outputs for each LSTM cell at each step for each sequence in the mini-batch. It also gives us the final LSTM state. We want to save this state as `final_state` so we can pass it to the first LSTM cell in the the next mini-batch run. For `tf.nn.dynamic_rnn`, we pass in the cell and initial state we get from `build_lstm`, as well as our input sequences. Also, we need to one-hot encode the inputs before going into the RNN. \r\n",
        "\r\n",
        "> **Exercise:** Use the functions you've implemented previously and `tf.nn.dynamic_rnn` to build the network."
      ]
    },
    {
      "cell_type": "code",
      "metadata": {
        "id": "MFMSwrCISk2B"
      },
      "source": [
        "class CharRNN:\r\n",
        "    \r\n",
        "    def __init__(self, num_classes, batch_size=64, num_steps=50, \r\n",
        "                       lstm_size=128, num_layers=2, learning_rate=0.001, \r\n",
        "                       grad_clip=5, sampling=False):\r\n",
        "    \r\n",
        "        # When we're using this network for sampling later, we'll be passing in\r\n",
        "        # one character at a time, so providing an option for that\r\n",
        "        if sampling == True:\r\n",
        "            batch_size, num_steps = 1, 1\r\n",
        "        else:\r\n",
        "            batch_size, num_steps = batch_size, num_steps\r\n",
        "\r\n",
        "        tf.reset_default_graph()\r\n",
        "        \r\n",
        "        # Build the input placeholder tensors\r\n",
        "        self.inputs, self.targets, self.keep_prob = \r\n",
        "\r\n",
        "        # Build the LSTM cell\r\n",
        "        cell, self.initial_state = \r\n",
        "\r\n",
        "        ### Run the data through the RNN layers\r\n",
        "        # First, one-hot encode the input tokens\r\n",
        "        x_one_hot = \r\n",
        "        \r\n",
        "        # Run each sequence step through the RNN with tf.nn.dynamic_rnn \r\n",
        "        outputs, state =\r\n",
        "        self.final_state = state\r\n",
        "        \r\n",
        "        # Get softmax predictions and logits\r\n",
        "        self.prediction, self.logits = \r\n",
        "        \r\n",
        "        # Loss and optimizer (with gradient clipping)\r\n",
        "        self.loss =  \r\n",
        "        self.optimizer = "
      ],
      "execution_count": null,
      "outputs": []
    },
    {
      "cell_type": "markdown",
      "metadata": {
        "id": "KmhvJG43Sm0q"
      },
      "source": [
        "## Hyperparameters\r\n",
        "\r\n",
        "Here are the hyperparameters for the network.\r\n",
        "\r\n",
        "* `batch_size` - Number of sequences running through the network in one pass.\r\n",
        "* `num_steps` - Number of characters in the sequence the network is trained on. Larger is better typically, the network will learn more long range dependencies. But it takes longer to train. 100 is typically a good number here.\r\n",
        "* `lstm_size` - The number of units in the hidden layers.\r\n",
        "* `num_layers` - Number of hidden LSTM layers to use\r\n",
        "* `learning_rate` - Learning rate for training\r\n",
        "* `keep_prob` - The dropout keep probability when training. If you're network is overfitting, try decreasing this.\r\n",
        "\r\n",
        "Here's some good advice from Andrej Karpathy on training the network. I'm going to copy it in here for your benefit, but also link to [where it originally came from](https://github.com/karpathy/char-rnn#tips-and-tricks).\r\n",
        "\r\n",
        "> ## Tips and Tricks\r\n",
        "\r\n",
        ">### Monitoring Validation Loss vs. Training Loss\r\n",
        ">If you're somewhat new to Machine Learning or Neural Networks it can take a bit of expertise to get good models. The most important quantity to keep track of is the difference between your training loss (printed during training) and the validation loss (printed once in a while when the RNN is run on the validation data (by default every 1000 iterations)). In particular:\r\n",
        "\r\n",
        "> - If your training loss is much lower than validation loss then this means the network might be **overfitting**. Solutions to this are to decrease your network size, or to increase dropout. For example you could try dropout of 0.5 and so on.\r\n",
        "> - If your training/validation loss are about equal then your model is **underfitting**. Increase the size of your model (either number of layers or the raw number of neurons per layer)\r\n",
        "\r\n",
        "> ### Approximate number of parameters\r\n",
        "\r\n",
        "> The two most important parameters that control the model are `lstm_size` and `num_layers`. I would advise that you always use `num_layers` of either 2/3. The `lstm_size` can be adjusted based on how much data you have. The two important quantities to keep track of here are:\r\n",
        "\r\n",
        "> - The number of parameters in your model. This is printed when you start training.\r\n",
        "> - The size of your dataset. 1MB file is approximately 1 million characters.\r\n",
        "\r\n",
        ">These two should be about the same order of magnitude. It's a little tricky to tell. Here are some examples:\r\n",
        "\r\n",
        "> - I have a 100MB dataset and I'm using the default parameter settings (which currently print 150K parameters). My data size is significantly larger (100 mil >> 0.15 mil), so I expect to heavily underfit. I am thinking I can comfortably afford to make `lstm_size` larger.\r\n",
        "> - I have a 10MB dataset and running a 10 million parameter model. I'm slightly nervous and I'm carefully monitoring my validation loss. If it's larger than my training loss then I may want to try to increase dropout a bit and see if that helps the validation loss.\r\n",
        "\r\n",
        "> ### Best models strategy\r\n",
        "\r\n",
        ">The winning strategy to obtaining very good models (if you have the compute time) is to always err on making the network larger (as large as you're willing to wait for it to compute) and then try different dropout values (between 0,1). Whatever model has the best validation performance (the loss, written in the checkpoint filename, low is good) is the one you should use in the end.\r\n",
        "\r\n",
        ">It is very common in deep learning to run many different models with many different hyperparameter settings, and in the end take whatever checkpoint gave the best validation performance.\r\n",
        "\r\n",
        ">By the way, the size of your training and validation splits are also parameters. Make sure you have a decent amount of data in your validation set or otherwise the validation performance will be noisy and not very informative."
      ]
    },
    {
      "cell_type": "code",
      "metadata": {
        "id": "aatElHTuSpkZ"
      },
      "source": [
        "batch_size = 10         # Sequences per batch\r\n",
        "num_steps = 50          # Number of sequence steps per batch\r\n",
        "lstm_size = 128         # Size of hidden layers in LSTMs\r\n",
        "num_layers = 2          # Number of LSTM layers\r\n",
        "learning_rate = 0.01    # Learning rate\r\n",
        "keep_prob = 0.5         # Dropout keep probability"
      ],
      "execution_count": null,
      "outputs": []
    },
    {
      "cell_type": "markdown",
      "metadata": {
        "id": "j3HoUYVWSrdA"
      },
      "source": [
        "## Time for training\r\n",
        "\r\n",
        "This is typical training code, passing inputs and targets into the network, then running the optimizer. Here we also get back the final LSTM state for the mini-batch. Then, we pass that state back into the network so the next batch can continue the state from the previous batch. And every so often (set by `save_every_n`) I save a checkpoint.\r\n",
        "\r\n",
        "Here I'm saving checkpoints with the format\r\n",
        "\r\n",
        "`i{iteration number}_l{# hidden layer units}.ckpt`\r\n",
        "\r\n",
        "> **Exercise:** Set the hyperparameters above to train the network. Watch the training loss, it should be consistently dropping. Also, I highly advise running this on a GPU."
      ]
    },
    {
      "cell_type": "code",
      "metadata": {
        "id": "lD7FXdZySuJI"
      },
      "source": [
        "epochs = 20\r\n",
        "# Print losses every N interations\r\n",
        "print_every_n = 50\r\n",
        "\r\n",
        "# Save every N iterations\r\n",
        "save_every_n = 200\r\n",
        "\r\n",
        "model = CharRNN(len(vocab), batch_size=batch_size, num_steps=num_steps,\r\n",
        "                lstm_size=lstm_size, num_layers=num_layers, \r\n",
        "                learning_rate=learning_rate)\r\n",
        "\r\n",
        "saver = tf.train.Saver(max_to_keep=100)\r\n",
        "with tf.Session() as sess:\r\n",
        "    sess.run(tf.global_variables_initializer())\r\n",
        "    \r\n",
        "    # Use the line below to load a checkpoint and resume training\r\n",
        "    #saver.restore(sess, 'checkpoints/______.ckpt')\r\n",
        "    counter = 0\r\n",
        "    for e in range(epochs):\r\n",
        "        # Train network\r\n",
        "        new_state = sess.run(model.initial_state)\r\n",
        "        loss = 0\r\n",
        "        for x, y in get_batches(encoded, batch_size, num_steps):\r\n",
        "            counter += 1\r\n",
        "            start = time.time()\r\n",
        "            feed = {model.inputs: x,\r\n",
        "                    model.targets: y,\r\n",
        "                    model.keep_prob: keep_prob,\r\n",
        "                    model.initial_state: new_state}\r\n",
        "            batch_loss, new_state, _ = sess.run([model.loss, \r\n",
        "                                                 model.final_state, \r\n",
        "                                                 model.optimizer], \r\n",
        "                                                 feed_dict=feed)\r\n",
        "            if (counter % print_every_n == 0):\r\n",
        "                end = time.time()\r\n",
        "                print('Epoch: {}/{}... '.format(e+1, epochs),\r\n",
        "                      'Training Step: {}... '.format(counter),\r\n",
        "                      'Training loss: {:.4f}... '.format(batch_loss),\r\n",
        "                      '{:.4f} sec/batch'.format((end-start)))\r\n",
        "        \r\n",
        "            if (counter % save_every_n == 0):\r\n",
        "                saver.save(sess, \"checkpoints/i{}_l{}.ckpt\".format(counter, lstm_size))\r\n",
        "    \r\n",
        "    saver.save(sess, \"checkpoints/i{}_l{}.ckpt\".format(counter, lstm_size))"
      ],
      "execution_count": null,
      "outputs": []
    },
    {
      "cell_type": "markdown",
      "metadata": {
        "id": "UpAbxU97SwfH"
      },
      "source": [
        "#### Saved checkpoints\r\n",
        "\r\n",
        "Read up on saving and loading checkpoints here: https://www.tensorflow.org/programmers_guide/variables"
      ]
    },
    {
      "cell_type": "code",
      "metadata": {
        "id": "HUNY-_L6SydP"
      },
      "source": [
        "tf.train.get_checkpoint_state('checkpoints')"
      ],
      "execution_count": null,
      "outputs": []
    },
    {
      "cell_type": "markdown",
      "metadata": {
        "id": "huc4xH_zS0E-"
      },
      "source": [
        "## Sampling\r\n",
        "\r\n",
        "Now that the network is trained, we'll can use it to generate new text. The idea is that we pass in a character, then the network will predict the next character. We can use the new one, to predict the next one. And we keep doing this to generate all new text. I also included some functionality to prime the network with some text by passing in a string and building up a state from that.\r\n",
        "\r\n",
        "The network gives us predictions for each character. To reduce noise and make things a little less random, I'm going to only choose a new character from the top N most likely characters.\r\n",
        "\r\n"
      ]
    },
    {
      "cell_type": "code",
      "metadata": {
        "id": "OaxI3xSKS2U3"
      },
      "source": [
        "def pick_top_n(preds, vocab_size, top_n=5):\r\n",
        "    p = np.squeeze(preds)\r\n",
        "    p[np.argsort(p)[:-top_n]] = 0\r\n",
        "    p = p / np.sum(p)\r\n",
        "    c = np.random.choice(vocab_size, 1, p=p)[0]\r\n",
        "    return c"
      ],
      "execution_count": null,
      "outputs": []
    },
    {
      "cell_type": "code",
      "metadata": {
        "id": "OVPdR087S4Aw"
      },
      "source": [
        "def sample(checkpoint, n_samples, lstm_size, vocab_size, prime=\"The \"):\r\n",
        "    samples = [c for c in prime]\r\n",
        "    model = CharRNN(len(vocab), lstm_size=lstm_size, sampling=True)\r\n",
        "    saver = tf.train.Saver()\r\n",
        "    with tf.Session() as sess:\r\n",
        "        saver.restore(sess, checkpoint)\r\n",
        "        new_state = sess.run(model.initial_state)\r\n",
        "        for c in prime:\r\n",
        "            x = np.zeros((1, 1))\r\n",
        "            x[0,0] = vocab_to_int[c]\r\n",
        "            feed = {model.inputs: x,\r\n",
        "                    model.keep_prob: 1.,\r\n",
        "                    model.initial_state: new_state}\r\n",
        "            preds, new_state = sess.run([model.prediction, model.final_state], \r\n",
        "                                         feed_dict=feed)\r\n",
        "\r\n",
        "        c = pick_top_n(preds, len(vocab))\r\n",
        "        samples.append(int_to_vocab[c])\r\n",
        "\r\n",
        "        for i in range(n_samples):\r\n",
        "            x[0,0] = c\r\n",
        "            feed = {model.inputs: x,\r\n",
        "                    model.keep_prob: 1.,\r\n",
        "                    model.initial_state: new_state}\r\n",
        "            preds, new_state = sess.run([model.prediction, model.final_state], \r\n",
        "                                         feed_dict=feed)\r\n",
        "\r\n",
        "            c = pick_top_n(preds, len(vocab))\r\n",
        "            samples.append(int_to_vocab[c])\r\n",
        "        \r\n",
        "    return ''.join(samples)"
      ],
      "execution_count": null,
      "outputs": []
    },
    {
      "cell_type": "markdown",
      "metadata": {
        "id": "eTePHiDVS-X3"
      },
      "source": [
        "Here, pass in the path to a checkpoint and sample from the network."
      ]
    },
    {
      "cell_type": "code",
      "metadata": {
        "id": "l4pdfYl1S7la"
      },
      "source": [
        "tf.train.latest_checkpoint('checkpoints')"
      ],
      "execution_count": null,
      "outputs": []
    },
    {
      "cell_type": "code",
      "metadata": {
        "id": "wfM5RJ-aTB83"
      },
      "source": [
        "checkpoint = tf.train.latest_checkpoint('checkpoints')\r\n",
        "samp = sample(checkpoint, 2000, lstm_size, len(vocab), prime=\"Far\")\r\n",
        "print(samp)"
      ],
      "execution_count": null,
      "outputs": []
    },
    {
      "cell_type": "code",
      "metadata": {
        "id": "kcvuCtStTDdq"
      },
      "source": [
        "checkpoint = 'checkpoints/i200_l512.ckpt'\r\n",
        "samp = sample(checkpoint, 1000, lstm_size, len(vocab), prime=\"Far\")\r\n",
        "print(samp)"
      ],
      "execution_count": null,
      "outputs": []
    },
    {
      "cell_type": "code",
      "metadata": {
        "id": "im-jq29hTE2P"
      },
      "source": [
        "checkpoint = 'checkpoints/i600_l512.ckpt'\r\n",
        "samp = sample(checkpoint, 1000, lstm_size, len(vocab), prime=\"Far\")\r\n",
        "print(samp)"
      ],
      "execution_count": null,
      "outputs": []
    },
    {
      "cell_type": "code",
      "metadata": {
        "id": "Pp7eibrjTKV6"
      },
      "source": [
        "checkpoint = 'checkpoints/i1200_l512.ckpt'\r\n",
        "samp = sample(checkpoint, 1000, lstm_size, len(vocab), prime=\"Far\")\r\n",
        "print(samp)"
      ],
      "execution_count": null,
      "outputs": []
    }
  ]
}