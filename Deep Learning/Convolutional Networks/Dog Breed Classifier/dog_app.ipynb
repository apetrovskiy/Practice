{
  "nbformat": 4,
  "nbformat_minor": 0,
  "metadata": {
    "colab": {
      "name": "dog_app.ipynb",
      "provenance": [],
      "collapsed_sections": [],
      "machine_shape": "hm"
    },
    "kernelspec": {
      "name": "python3",
      "display_name": "Python 3"
    },
    "accelerator": "GPU"
  },
  "cells": [
    {
      "cell_type": "markdown",
      "metadata": {
        "id": "erNxJLTT3_RU"
      },
      "source": [
        "# Convolutional Neural Networks\r\n",
        "\r\n",
        "## Project: Write an Algorithm for a Dog Identification App \r\n",
        "\r\n",
        "---\r\n",
        "\r\n",
        "In this notebook, some template code has already been provided for you, and you will need to implement additional functionality to successfully complete this project. You will not need to modify the included code beyond what is requested. Sections that begin with **'(IMPLEMENTATION)'** in the header indicate that the following block of code will require additional functionality which you must provide. Instructions will be provided for each section, and the specifics of the implementation are marked in the code block with a 'TODO' statement. Please be sure to read the instructions carefully! \r\n",
        "\r\n",
        "> **Note**: Once you have completed all of the code implementations, you need to finalize your work by exporting the iPython Notebook as an HTML document. Before exporting the notebook to html, all of the code cells need to have been run so that reviewers can see the final implementation and output. You can then export the notebook by using the menu above and navigating to  \\n\",\r\n",
        "    \"**File -> Download as -> HTML (.html)**. Include the finished document along with this notebook as your submission.\r\n",
        "\r\n",
        "In addition to implementing code, there will be questions that you must answer which relate to the project and your implementation. Each section where you will answer a question is preceded by a **'Question X'** header. Carefully read each question and provide thorough answers in the following text boxes that begin with **'Answer:'**. Your project submission will be evaluated based on your answers to each of the questions and the implementation you provide.\r\n",
        "\r\n",
        ">**Note:** Code and Markdown cells can be executed using the **Shift + Enter** keyboard shortcut.  Markdown cells can be edited by double-clicking the cell to enter edit mode.\r\n",
        "\r\n",
        "The rubric contains _optional_ \"Stand Out Suggestions\" for enhancing the project beyond the minimum requirements. If you decide to pursue the \"Stand Out Suggestions\", you should include the code in this IPython notebook.\r\n",
        "\r\n",
        "\r\n",
        "\r\n",
        "---\r\n",
        "### Why We're Here \r\n",
        "\r\n",
        "In this notebook, you will make the first steps towards developing an algorithm that could be used as part of a mobile or web app.  At the end of this project, your code will accept any user-supplied image as input.  If a dog is detected in the image, it will provide an estimate of the dog's breed.  If a human is detected, it will provide an estimate of the dog breed that is most resembling.  The image below displays potential sample output of your finished project (... but we expect that each student's algorithm will behave differently!). \r\n",
        "\r\n",
        "![Sample Dog Output](images/sample_dog_output.png)\r\n",
        "\r\n",
        "In this real-world setting, you will need to piece together a series of models to perform different tasks; for instance, the algorithm that detects humans in an image will be different from the CNN that infers dog breed.  There are many points of possible failure, and no perfect algorithm exists.  Your imperfect solution will nonetheless create a fun user experience!\r\n",
        "\r\n",
        "### The Road Ahead\r\n",
        "\r\n",
        "We break the notebook into separate steps.  Feel free to use the links below to navigate the notebook.\r\n",
        "\r\n",
        "* [Step 0](#step0): Import Datasets\r\n",
        "* [Step 1](#step1): Detect Humans\r\n",
        "* [Step 2](#step2): Detect Dogs\r\n",
        "* [Step 3](#step3): Create a CNN to Classify Dog Breeds (from Scratch)\r\n",
        "* [Step 4](#step4): Use a CNN to Classify Dog Breeds (using Transfer Learning)\r\n",
        "* [Step 5](#step5): Create a CNN to Classify Dog Breeds (using Transfer Learning)\r\n",
        "* [Step 6](#step6): Write your Algorithm\r\n",
        "* [Step 7](#step7): Test Your Algorithm\r\n",
        "\r\n",
        "---\r\n",
        "<a id='step0'></a>\r\n",
        "## Step 0: Import Datasets\r\n",
        "\r\n",
        "### Import Dog Dataset\r\n",
        "\r\n",
        "In the code cell below, we import a dataset of dog images.  We populate a few variables through the use of the `load_files` function from the scikit-learn library:\r\n",
        "- `train_files`, `valid_files`, `test_files` - numpy arrays containing file paths to images\r\n",
        "- `train_targets`, `valid_targets`, `test_targets` - numpy arrays containing onehot-encoded classification labels \r\n",
        "- `dog_names` - list of string-valued dog breed names for translating labels"
      ]
    },
    {
      "cell_type": "code",
      "metadata": {
        "colab": {
          "base_uri": "https://localhost:8080/"
        },
        "id": "1PSoK2Qc3XQn",
        "outputId": "628a5625-cb6f-4c36-caa5-d3d86cb35cec"
      },
      "source": [
        "%tensorflow_version 1.x"
      ],
      "execution_count": 2,
      "outputs": [
        {
          "output_type": "stream",
          "text": [
            "TensorFlow 1.x selected.\n"
          ],
          "name": "stdout"
        }
      ]
    },
    {
      "cell_type": "code",
      "metadata": {
        "colab": {
          "base_uri": "https://localhost:8080/"
        },
        "id": "cPSIyCM__58R",
        "outputId": "5d5b1b9a-0dbd-4a44-abd0-5b602e1d0aea"
      },
      "source": [
        "!wget https://s3-us-west-1.amazonaws.com/udacity-aind/dog-project/dogImages.zip\r\n",
        "!unzip -q dogImages.zip\r\n",
        "print(\"Dataset is ready to use\")"
      ],
      "execution_count": 3,
      "outputs": [
        {
          "output_type": "stream",
          "text": [
            "--2021-01-11 13:29:03--  https://s3-us-west-1.amazonaws.com/udacity-aind/dog-project/dogImages.zip\n",
            "Resolving s3-us-west-1.amazonaws.com (s3-us-west-1.amazonaws.com)... 52.219.116.192\n",
            "Connecting to s3-us-west-1.amazonaws.com (s3-us-west-1.amazonaws.com)|52.219.116.192|:443... connected.\n",
            "HTTP request sent, awaiting response... 200 OK\n",
            "Length: 1132023110 (1.1G) [application/zip]\n",
            "Saving to: ‘dogImages.zip’\n",
            "\n",
            "dogImages.zip       100%[===================>]   1.05G  20.3MB/s    in 54s     \n",
            "\n",
            "2021-01-11 13:29:59 (19.8 MB/s) - ‘dogImages.zip’ saved [1132023110/1132023110]\n",
            "\n",
            "Data set is ready to use\n"
          ],
          "name": "stdout"
        }
      ]
    },
    {
      "cell_type": "code",
      "metadata": {
        "colab": {
          "base_uri": "https://localhost:8080/"
        },
        "id": "8bk7BB_u4L4Y",
        "outputId": "e7f7a0be-236d-45c7-9117-20ff1767ef4d"
      },
      "source": [
        "from sklearn.datasets import load_files       \r\n",
        "from keras.utils import np_utils\r\n",
        "import numpy as np\r\n",
        "from glob import glob\r\n",
        "\r\n",
        "# define function to load train, test, and validation datasets\r\n",
        "def load_dataset(path):\r\n",
        "    data = load_files(path)\r\n",
        "    dog_files = np.array(data['filenames'])\r\n",
        "    dog_targets = np_utils.to_categorical(np.array(data['target']), 133)\r\n",
        "    return dog_files, dog_targets\r\n",
        "\r\n",
        "# load train, test, and validation datasets\r\n",
        "train_files, train_targets = load_dataset('dogImages/train')\r\n",
        "valid_files, valid_targets = load_dataset('dogImages/valid')\r\n",
        "test_files, test_targets = load_dataset('dogImages/test')\r\n",
        "\r\n",
        "# load list of dog names\r\n",
        "dog_names = [item[20:-1] for item in sorted(glob(\"dogImages/train/*/\"))]\r\n",
        "\r\n",
        "# print statistics about the dataset\r\n",
        "print('There are %d total dog categories.' % len(dog_names))\r\n",
        "print('There are %s total dog images.\\n' % len(np.hstack([train_files, valid_files, test_files])))\r\n",
        "print('There are %d training dog images.' % len(train_files))\r\n",
        "print('There are %d validation dog images.' % len(valid_files))\r\n",
        "print('There are %d test dog images.'% len(test_files))"
      ],
      "execution_count": 4,
      "outputs": [
        {
          "output_type": "stream",
          "text": [
            "Using TensorFlow backend.\n"
          ],
          "name": "stderr"
        },
        {
          "output_type": "stream",
          "text": [
            "There are 133 total dog categories.\n",
            "There are 8351 total dog images.\n",
            "\n",
            "There are 6680 training dog images.\n",
            "There are 835 validation dog images.\n",
            "There are 836 test dog images.\n"
          ],
          "name": "stdout"
        }
      ]
    },
    {
      "cell_type": "markdown",
      "metadata": {
        "id": "OBfTYE0f4PUI"
      },
      "source": [
        "### Import Human Dataset\r\n",
        "\r\n",
        "In the code cell below, we import a dataset of human images, where the file paths are stored in the numpy array `human_files`."
      ]
    },
    {
      "cell_type": "code",
      "metadata": {
        "colab": {
          "base_uri": "https://localhost:8080/"
        },
        "id": "AvV2kPcdAKC-",
        "outputId": "b9f28ad1-b0b8-4b99-9f24-db014920da97"
      },
      "source": [
        "!wget https://s3-us-west-1.amazonaws.com/udacity-aind/dog-project/lfw.zip\r\n",
        "!unzip -q lfw.zip\r\n",
        "print(\"Dataset is ready to use\")"
      ],
      "execution_count": 5,
      "outputs": [
        {
          "output_type": "stream",
          "text": [
            "--2021-01-11 13:30:16--  https://s3-us-west-1.amazonaws.com/udacity-aind/dog-project/lfw.zip\n",
            "Resolving s3-us-west-1.amazonaws.com (s3-us-west-1.amazonaws.com)... 52.219.116.136\n",
            "Connecting to s3-us-west-1.amazonaws.com (s3-us-west-1.amazonaws.com)|52.219.116.136|:443... connected.\n",
            "HTTP request sent, awaiting response... 200 OK\n",
            "Length: 196739509 (188M) [application/zip]\n",
            "Saving to: ‘lfw.zip’\n",
            "\n",
            "lfw.zip             100%[===================>] 187.62M  20.0MB/s    in 10s     \n",
            "\n",
            "2021-01-11 13:30:27 (18.3 MB/s) - ‘lfw.zip’ saved [196739509/196739509]\n",
            "\n",
            "Data set is ready to use\n"
          ],
          "name": "stdout"
        }
      ]
    },
    {
      "cell_type": "code",
      "metadata": {
        "colab": {
          "base_uri": "https://localhost:8080/"
        },
        "id": "Udj03MSL4WW6",
        "outputId": "bef7d3c7-c1a3-4c9b-9039-0e675555ecb4"
      },
      "source": [
        "import random\r\n",
        "random.seed(8675309)\r\n",
        "\r\n",
        "# load filenames in shuffled human dataset\r\n",
        "human_files = np.array(glob(\"lfw/*/*\"))\r\n",
        "random.shuffle(human_files)\r\n",
        "\r\n",
        "# print statistics about the dataset\r\n",
        "print('There are %d total human images.' % len(human_files))"
      ],
      "execution_count": 6,
      "outputs": [
        {
          "output_type": "stream",
          "text": [
            "There are 13233 total human images.\n"
          ],
          "name": "stdout"
        }
      ]
    },
    {
      "cell_type": "markdown",
      "metadata": {
        "id": "MgC9H5SO4aRR"
      },
      "source": [
        "---\r\n",
        "<a id='step1'></a>\r\n",
        "## Step 1: Detect Humans\r\n",
        "\r\n",
        "We use OpenCV's implementation of [Haar feature-based cascade classifiers](http://docs.opencv.org/trunk/d7/d8b/tutorial_py_face_detection.html) to detect human faces in images.  OpenCV provides many pre-trained face detectors, stored as XML files on [github](https://github.com/opencv/opencv/tree/master/data/haarcascades).  We have downloaded one of these detectors and stored it in the `haarcascades` directory.\r\n",
        "\r\n",
        "In the next code cell, we demonstrate how to use this detector to find human faces in a sample image."
      ]
    },
    {
      "cell_type": "code",
      "metadata": {
        "colab": {
          "base_uri": "https://localhost:8080/",
          "height": 286
        },
        "id": "lkQW11344crD",
        "outputId": "2611d593-09a7-4df9-b219-b8d460572a35"
      },
      "source": [
        "import cv2                \r\n",
        "import matplotlib.pyplot as plt                        \r\n",
        "%matplotlib inline                               \r\n",
        "\r\n",
        "# extract pre-trained face detector\r\n",
        "face_cascade = cv2.CascadeClassifier('haarcascades/haarcascade_frontalface_alt.xml')\r\n",
        "\r\n",
        "# load color (BGR) image\r\n",
        "img = cv2.imread(human_files[3])\r\n",
        "# convert BGR image to grayscale\r\n",
        "gray = cv2.cvtColor(img, cv2.COLOR_BGR2GRAY)\r\n",
        "\r\n",
        "# find faces in image\r\n",
        "faces = face_cascade.detectMultiScale(gray)\r\n",
        "\r\n",
        "# print number of faces detected in the image\r\n",
        "print('Number of faces detected:', len(faces))\r\n",
        "\r\n",
        "# get bounding box for each detected face\r\n",
        "for (x,y,w,h) in faces:\r\n",
        "    # add bounding box to color image\r\n",
        "    cv2.rectangle(img,(x,y),(x+w,y+h),(255,0,0),2)\r\n",
        "    \r\n",
        "# convert BGR image to RGB for plotting\r\n",
        "cv_rgb = cv2.cvtColor(img, cv2.COLOR_BGR2RGB)\r\n",
        "\r\n",
        "# display the image, along with bounding box\r\n",
        "plt.imshow(cv_rgb)\r\n",
        "plt.show()"
      ],
      "execution_count": 7,
      "outputs": [
        {
          "output_type": "stream",
          "text": [
            "Number of faces detected: 1\n"
          ],
          "name": "stdout"
        },
        {
          "output_type": "display_data",
          "data": {
            "image/png": "[encoded data removed]",
            "text/plain": [
              "<Figure size 432x288 with 1 Axes>"
            ]
          },
          "metadata": {
            "tags": [],
            "needs_background": "light"
          }
        }
      ]
    },
    {
      "cell_type": "markdown",
      "metadata": {
        "id": "FFXtXlVF4fvv"
      },
      "source": [
        "Before using any of the face detectors, it is standard procedure to convert the images to grayscale.  The `detectMultiScale` function executes the classifier stored in `face_cascade` and takes the grayscale image as a parameter.  \r\n",
        "\r\n",
        "In the above code, `faces` is a numpy array of detected faces, where each row corresponds to a detected face.  Each detected face is a 1D array with four entries that specifies the bounding box of the detected face.  The first two entries in the array (extracted in the above code as `x` and `y`) specify the horizontal and vertical positions of the top left corner of the bounding box.  The last two entries in the array (extracted here as `w` and `h`) specify the width and height of the box.\r\n",
        "\r\n",
        "### Write a Human Face Detector\r\n",
        "\r\n",
        "We can use this procedure to write a function that returns `True` if a human face is detected in an image and `False` otherwise.  This function, aptly named `face_detector`, takes a string-valued file path to an image as input and appears in the code block below."
      ]
    },
    {
      "cell_type": "code",
      "metadata": {
        "id": "BN-2VxTc4n9G"
      },
      "source": [
        "# returns \"True\" if face is detected in image stored at img_path\r\n",
        "def face_detector(img_path):\r\n",
        "    img = cv2.imread(img_path)\r\n",
        "    gray = cv2.cvtColor(img, cv2.COLOR_BGR2GRAY)\r\n",
        "    faces = face_cascade.detectMultiScale(gray)\r\n",
        "    return len(faces) > 0"
      ],
      "execution_count": 8,
      "outputs": []
    },
    {
      "cell_type": "markdown",
      "metadata": {
        "id": "2F8NErmY4qim"
      },
      "source": [
        "### (IMPLEMENTATION) Assess the Human Face Detector\r\n",
        "\r\n",
        "__Question 1:__ Use the code cell below to test the performance of the `face_detector` function.  \r\n",
        "- What percentage of the first 100 images in `human_files` have a detected human face?  \r\n",
        "- What percentage of the first 100 images in `dog_files` have a detected human face? \r\n",
        "\r\n",
        "Ideally, we would like 100% of human images with a detected face and 0% of dog images with a detected face.  You will see that our algorithm falls short of this goal, but still gives acceptable performance.  We extract the file paths for the first 100 images from each of the datasets and store them in the numpy arrays `human_files_short` and `dog_files_short`.\r\n",
        "\r\n",
        "__Answer:__ \r\n",
        "- 97% of the first 100 images in `human_files` have a detected human face.\r\n",
        "- 12% of the first 100 images in `dog_files` have a detected human face."
      ]
    },
    {
      "cell_type": "code",
      "metadata": {
        "colab": {
          "base_uri": "https://localhost:8080/"
        },
        "id": "k80QHfre4tO5",
        "outputId": "0dab5da0-d836-4606-9953-e21df40bbbc2"
      },
      "source": [
        "human_files_short = human_files[:100]\r\n",
        "dog_files_short = train_files[:100]\r\n",
        "# Do NOT modify the code above this line.\r\n",
        "\r\n",
        "## TODO: Test the performance of the face_detector algorithm \r\n",
        "## on the images in human_files_short and dog_files_short.\r\n",
        "\r\n",
        "humans = 0\r\n",
        "dogs = 0\r\n",
        "\r\n",
        "for h in human_files_short:\r\n",
        "  if face_detector(h)==True:\r\n",
        "    humans += 1\r\n",
        "\r\n",
        "for d in dog_files_short:\r\n",
        "  if face_detector(d)==True:\r\n",
        "    dogs += 1\r\n",
        "\r\n",
        "print(\"{}% of the first 100 images in human_files have a detected human face\".format(humans))\r\n",
        "print(\"{}% of the first 100 images in dog_files have a detected human face.\".format(dogs))"
      ],
      "execution_count": 9,
      "outputs": [
        {
          "output_type": "stream",
          "text": [
            "97% of the first 100 images in human_files have a detected human face\n",
            "12% of the first 100 images in dog_files have a detected human face.\n"
          ],
          "name": "stdout"
        }
      ]
    },
    {
      "cell_type": "markdown",
      "metadata": {
        "id": "HLBfH4wd4vfm"
      },
      "source": [
        "__Question 2:__ This algorithmic choice necessitates that we communicate to the user that we accept human images only when they provide a clear view of a face (otherwise, we risk having unneccessarily frustrated users!). In your opinion, is this a reasonable expectation to pose on the user? If not, can you think of a way to detect humans in images that does not necessitate an image with a clearly presented face?\r\n",
        "\r\n",
        "__Answer:__\r\n",
        "\r\n",
        "(We suggest the face detector from OpenCV as a potential way to detect human images in your algorithm, but you are free to explore other approaches, especially approaches that make use of deep learning :).  Please use the code cell below to design and test your own face detection algorithm.  If you decide to pursue this _optional_ task, report performance on each of the datasets.)\r\n",
        "\r\n",
        "Used face-recognition but it has some different outputs compared to previous face detector.\r\n",
        "\r\n",
        "Below are the outputs:\r\n",
        "- 99% of the first 100 images in human_files have a detected human face\r\n",
        "- 10% of the first 100 images in dog_files have a detected human face."
      ]
    },
    {
      "cell_type": "code",
      "metadata": {
        "id": "CUePk8S6sBVl"
      },
      "source": [
        "!pip -qq install face-recognition"
      ],
      "execution_count": 12,
      "outputs": []
    },
    {
      "cell_type": "code",
      "metadata": {
        "id": "jOxDbyYe4y6S",
        "colab": {
          "base_uri": "https://localhost:8080/"
        },
        "outputId": "5a17c876-1275-43bb-cbcb-e3fa5300164b"
      },
      "source": [
        "## (Optional) TODO: Report the performance of another  \r\n",
        "## face detection algorithm on the LFW dataset\r\n",
        "### Feel free to use as many code cells as needed.\r\n",
        "import face_recognition\r\n",
        "\r\n",
        "def face_detector_other(img_path):\r\n",
        "    img = face_recognition.load_image_file(img_path)\r\n",
        "    faces = face_recognition.face_locations(img)\r\n",
        "    return len(faces) > 0\r\n",
        "\r\n",
        "human_files_short = human_files[:100]\r\n",
        "dog_files_short = train_files[:100]\r\n",
        "\r\n",
        "humans = 0\r\n",
        "dogs = 0\r\n",
        "\r\n",
        "for h in human_files_short:\r\n",
        "  if face_detector_other(h)==True:\r\n",
        "    humans += 1\r\n",
        "\r\n",
        "for d in dog_files_short:\r\n",
        "  if face_detector_other(d)==True:\r\n",
        "    dogs += 1\r\n",
        "\r\n",
        "print(\"{}% of the first 100 images in human_files have a detected human face\".format(humans))\r\n",
        "print(\"{}% of the first 100 images in dog_files have a detected human face.\".format(dogs))"
      ],
      "execution_count": 16,
      "outputs": [
        {
          "output_type": "stream",
          "text": [
            "99% of the first 100 images in human_files have a detected human face\n",
            "10% of the first 100 images in dog_files have a detected human face.\n"
          ],
          "name": "stdout"
        }
      ]
    },
    {
      "cell_type": "markdown",
      "metadata": {
        "id": "56aKo4eu42I9"
      },
      "source": [
        "---\r\n",
        "<a id='step2'></a>\r\n",
        "## Step 2: Detect Dogs\r\n",
        "\r\n",
        "In this section, we use a pre-trained [ResNet-50](http://ethereon.github.io/netscope/#/gist/db945b393d40bfa26006) model to detect dogs in images.  Our first line of code downloads the ResNet-50 model, along with weights that have been trained on [ImageNet](http://www.image-net.org/), a very large, very popular dataset used for image classification and other vision tasks.  ImageNet contains over 10 million URLs, each linking to an image containing an object from one of [1000 categories](https://gist.github.com/yrevar/942d3a0ac09ec9e5eb3a).  Given an image, this pre-trained ResNet-50 model returns a prediction (derived from the available categories in ImageNet) for the object that is contained in the image."
      ]
    },
    {
      "cell_type": "code",
      "metadata": {
        "id": "C8t3U_iV45bE"
      },
      "source": [
        "from keras.applications.resnet50 import ResNet50\r\n",
        "\r\n",
        "# define ResNet50 model\r\n",
        "ResNet50_model = ResNet50(weights='imagenet')"
      ],
      "execution_count": null,
      "outputs": []
    },
    {
      "cell_type": "markdown",
      "metadata": {
        "id": "wo7iE6Yk5Bml"
      },
      "source": [
        "### Pre-process the Data\r\n",
        "\r\n",
        "When using TensorFlow as backend, Keras CNNs require a 4D array (which we'll also refer to as a 4D tensor) as input, with shape\r\n",
        "\r\n",
        "$$\r\n",
        "(\\text{nb_samples}, \\text{rows}, \\text{columns}, \\text{channels}),\r\n",
        "$$\r\n",
        "\r\n",
        "where `nb_samples` corresponds to the total number of images (or samples), and `rows`, `columns`, and `channels` correspond to the number of rows, columns, and channels for each image, respectively.  \r\n",
        "\r\n",
        "The `path_to_tensor` function below takes a string-valued file path to a color image as input and returns a 4D tensor suitable for supplying to a Keras CNN.  The function first loads the image and resizes it to a square image that is $224 \\times 224$ pixels.  Next, the image is converted to an array, which is then resized to a 4D tensor.  In this case, since we are working with color images, each image has three channels.  Likewise, since we are processing a single image (or sample), the returned tensor will always have shape\r\n",
        "\r\n",
        "$$\r\n",
        "(1, 224, 224, 3).\r\n",
        "$$\r\n",
        "\r\n",
        "The `paths_to_tensor` function takes a numpy array of string-valued image paths as input and returns a 4D tensor with shape \r\n",
        "\r\n",
        "$$\r\n",
        "(\\text{nb_samples}, 224, 224, 3).\r\n",
        "$$\r\n",
        "\r\n",
        "Here, `nb_samples` is the number of samples, or number of images, in the supplied array of image paths.  It is best to think of `nb_samples` as the number of 3D tensors (where each 3D tensor corresponds to a different image) in your dataset!"
      ]
    },
    {
      "cell_type": "code",
      "metadata": {
        "id": "j4pibozW5CDJ"
      },
      "source": [
        "from keras.preprocessing import image                  \r\n",
        "from tqdm import tqdm\r\n",
        "\r\n",
        "def path_to_tensor(img_path):\r\n",
        "    # loads RGB image as PIL.Image.Image type\r\n",
        "    img = image.load_img(img_path, target_size=(224, 224))\r\n",
        "    # convert PIL.Image.Image type to 3D tensor with shape (224, 224, 3)\r\n",
        "    x = image.img_to_array(img)\r\n",
        "    # convert 3D tensor to 4D tensor with shape (1, 224, 224, 3) and return 4D tensor\r\n",
        "    return np.expand_dims(x, axis=0)\r\n",
        "\r\n",
        "def paths_to_tensor(img_paths):\r\n",
        "    list_of_tensors = [path_to_tensor(img_path) for img_path in tqdm(img_paths)]\r\n",
        "    return np.vstack(list_of_tensors)"
      ],
      "execution_count": null,
      "outputs": []
    },
    {
      "cell_type": "markdown",
      "metadata": {
        "id": "lAg_t5SN5G7l"
      },
      "source": [
        "### Making Predictions with ResNet-50\r\n",
        "\r\n",
        "Getting the 4D tensor ready for ResNet-50, and for any other pre-trained model in Keras, requires some additional processing.  First, the RGB image is converted to BGR by reordering the channels.  All pre-trained models have the additional normalization step that the mean pixel (expressed in RGB as $[103.939, 116.779, 123.68]$ and calculated from all pixels in all images in ImageNet) must be subtracted from every pixel in each image.  This is implemented in the imported function `preprocess_input`.  If you're curious, you can check the code for `preprocess_input` [here](https://github.com/fchollet/keras/blob/master/keras/applications/imagenet_utils.py).\r\n",
        "\r\n",
        "Now that we have a way to format our image for supplying to ResNet-50, we are now ready to use the model to extract the predictions.  This is accomplished with the `predict` method, which returns an array whose $i$-th entry is the model's predicted probability that the image belongs to the $i$-th ImageNet category.  This is implemented in the `ResNet50_predict_labels` function below.\r\n",
        "\r\n",
        "By taking the argmax of the predicted probability vector, we obtain an integer corresponding to the model's predicted object class, which we can identify with an object category through the use of this [dictionary](https://gist.github.com/yrevar/942d3a0ac09ec9e5eb3a). "
      ]
    },
    {
      "cell_type": "code",
      "metadata": {
        "id": "iKm-HNG_5HZU"
      },
      "source": [
        "from keras.applications.resnet50 import preprocess_input, decode_predictions\r\n",
        "\r\n",
        "def ResNet50_predict_labels(img_path):\r\n",
        "    # returns prediction vector for image located at img_path\r\n",
        "    img = preprocess_input(path_to_tensor(img_path))\r\n",
        "    return np.argmax(ResNet50_model.predict(img))"
      ],
      "execution_count": null,
      "outputs": []
    },
    {
      "cell_type": "markdown",
      "metadata": {
        "id": "fSqwjD9m5JnW"
      },
      "source": [
        "### Write a Dog Detector\r\n",
        "\r\n",
        "While looking at the [dictionary](https://gist.github.com/yrevar/942d3a0ac09ec9e5eb3a), you will notice that the categories corresponding to dogs appear in an uninterrupted sequence and correspond to dictionary keys 151-268, inclusive, to include all categories from `'Chihuahua'` to `'Mexican hairless'`.  Thus, in order to check to see if an image is predicted to contain a dog by the pre-trained ResNet-50 model, we need only check if the `ResNet50_predict_labels` function above returns a value between 151 and 268 (inclusive).\r\n",
        "\r\n",
        "We use these ideas to complete the `dog_detector` function below, which returns `True` if a dog is detected in an image (and `False` if not)."
      ]
    },
    {
      "cell_type": "code",
      "metadata": {
        "id": "s66-6HqX5MSh"
      },
      "source": [
        "### returns \"True\" if a dog is detected in the image stored at img_path\r\n",
        "def dog_detector(img_path):\r\n",
        "    prediction = ResNet50_predict_labels(img_path)\r\n",
        "    return ((prediction <= 268) & (prediction >= 151)) "
      ],
      "execution_count": null,
      "outputs": []
    },
    {
      "cell_type": "markdown",
      "metadata": {
        "id": "vnGqLQVr5OdE"
      },
      "source": [
        "### (IMPLEMENTATION) Assess the Dog Detector\r\n",
        "\r\n",
        "__Question 3:__ Use the code cell below to test the performance of your `dog_detector` function.  \r\n",
        "- What percentage of the images in `human_files_short` have a detected dog?  \r\n",
        "- What percentage of the images in `dog_files_short` have a detected dog?\r\n",
        "\r\n",
        "__Answer:__ "
      ]
    },
    {
      "cell_type": "code",
      "metadata": {
        "id": "8mpNbUfY5REA"
      },
      "source": [
        "### TODO: Test the performance of the dog_detector function\r\n",
        "### on the images in human_files_short and dog_files_short."
      ],
      "execution_count": null,
      "outputs": []
    },
    {
      "cell_type": "markdown",
      "metadata": {
        "id": "QpYgexMz5UZ9"
      },
      "source": [
        "---\r\n",
        "<a id='step3'></a>\r\n",
        "## Step 3: Create a CNN to Classify Dog Breeds (from Scratch)\r\n",
        "\r\n",
        "Now that we have functions for detecting humans and dogs in images, we need a way to predict breed from images.  In this step, you will create a CNN that classifies dog breeds.  You must create your CNN _from scratch_ (so, you can't use transfer learning _yet_!), and you must attain a test accuracy of at least 1%.  In Step 5 of this notebook, you will have the opportunity to use transfer learning to create a CNN that attains greatly improved accuracy.\r\n",
        "\r\n",
        "Be careful with adding too many trainable layers!  More parameters means longer training, which means you are more likely to need a GPU to accelerate the training process.  Thankfully, Keras provides a handy estimate of the time that each epoch is likely to take; you can extrapolate this estimate to figure out how long it will take for your algorithm to train. \r\n",
        "\r\n",
        "We mention that the task of assigning breed to dogs from images is considered exceptionally challenging.  To see why, consider that *even a human* would have great difficulty in distinguishing between a Brittany and a Welsh Springer Spaniel.  \r\n",
        "\r\n",
        "Brittany | Welsh Springer Spaniel\r\n",
        "- | - \r\n",
        "<img src=\"images/Brittany_02625.jpg\" width=\"100\"> | <img src=\"images/Welsh_springer_spaniel_08203.jpg\" width=\"200\">\r\n",
        "\r\n",
        "It is not difficult to find other dog breed pairs with minimal inter-class variation (for instance, Curly-Coated Retrievers and American Water Spaniels).  \r\n",
        "\r\n",
        "Curly-Coated Retriever | American Water Spaniel\r\n",
        "- | -\r\n",
        "<img src=\"images/Curly-coated_retriever_03896.jpg\" width=\"200\"> | <img src=\"images/American_water_spaniel_00648.jpg\" width=\"200\">\r\n",
        "\r\n",
        "\r\n",
        "Likewise, recall that labradors come in yellow, chocolate, and black.  Your vision-based algorithm will have to conquer this high intra-class variation to determine how to classify all of these different shades as the same breed.  \r\n",
        "\r\n",
        "Yellow Labrador | Chocolate Labrador | Black Labrador\r\n",
        "- | -\r\n",
        "<img src=\"images/Labrador_retriever_06457.jpg\" width=\"150\"> | <img src=\"images/Labrador_retriever_06455.jpg\" width=\"240\"> | <img src=\"images/Labrador_retriever_06449.jpg\" width=\"220\">\r\n",
        "\r\n",
        "We also mention that random chance presents an exceptionally low bar: setting aside the fact that the classes are slightly imabalanced, a random guess will provide a correct answer roughly 1 in 133 times, which corresponds to an accuracy of less than 1%.  \r\n",
        "\r\n",
        "Remember that the practice is far ahead of the theory in deep learning.  Experiment with many different architectures, and trust your intuition.  And, of course, have fun! \r\n",
        "\r\n",
        "### Pre-process the Data\r\n",
        "\r\n",
        "We rescale the images by dividing every pixel in every image by 255."
      ]
    },
    {
      "cell_type": "code",
      "metadata": {
        "id": "0ernsSr85WRw"
      },
      "source": [
        "from PIL import ImageFile                            \r\n",
        "ImageFile.LOAD_TRUNCATED_IMAGES = True                 \r\n",
        "\r\n",
        "# pre-process the data for Keras\r\n",
        "train_tensors = paths_to_tensor(train_files).astype('float32')/255\r\n",
        "valid_tensors = paths_to_tensor(valid_files).astype('float32')/255\r\n",
        "test_tensors = paths_to_tensor(test_files).astype('float32')/255"
      ],
      "execution_count": null,
      "outputs": []
    },
    {
      "cell_type": "markdown",
      "metadata": {
        "id": "Ok68SlYY5Ys0"
      },
      "source": [
        "### (IMPLEMENTATION) Model Architecture\r\n",
        "\r\n",
        "Create a CNN to classify dog breed.  At the end of your code cell block, summarize the layers of your model by executing the line:\r\n",
        "    \r\n",
        "        model.summary()\r\n",
        "\r\n",
        "We have imported some Python modules to get you started, but feel free to import as many modules as you need.  If you end up getting stuck, here's a hint that specifies a model that trains relatively fast on CPU and attains >1% test accuracy in 5 epochs:\r\n",
        "\r\n",
        "![Sample CNN](images/sample_cnn.png)\r\n",
        "           \r\n",
        "__Question 4:__ Outline the steps you took to get to your final CNN architecture and your reasoning at each step.  If you chose to use the hinted architecture above, describe why you think that CNN architecture should work well for the image classification task.\r\n",
        "\r\n",
        "__Answer:__ "
      ]
    },
    {
      "cell_type": "code",
      "metadata": {
        "id": "gj7JBd8U5asP"
      },
      "source": [
        "from keras.layers import Conv2D, MaxPooling2D, GlobalAveragePooling2D\r\n",
        "from keras.layers import Dropout, Flatten, Dense\r\n",
        "from keras.models import Sequential\r\n",
        "\r\n",
        "model = Sequential()\r\n",
        "\r\n",
        "### TODO: Define your architecture.\r\n",
        "\r\n",
        "model.summary()"
      ],
      "execution_count": null,
      "outputs": []
    },
    {
      "cell_type": "markdown",
      "metadata": {
        "id": "LsG2XrJ_5d4F"
      },
      "source": [
        "### Compile the Model"
      ]
    },
    {
      "cell_type": "code",
      "metadata": {
        "id": "0EGyvYTM5ger"
      },
      "source": [
        "model.compile(optimizer='rmsprop', loss='categorical_crossentropy', metrics=['accuracy'])"
      ],
      "execution_count": null,
      "outputs": []
    },
    {
      "cell_type": "markdown",
      "metadata": {
        "id": "-hocOqam5h-p"
      },
      "source": [
        "### (IMPLEMENTATION) Train the Model\r\n",
        "\r\n",
        "Train your model in the code cell below.  Use model checkpointing to save the model that attains the best validation loss.\r\n",
        "\r\n",
        "You are welcome to [augment the training data](https://blog.keras.io/building-powerful-image-classification-models-using-very-little-data.html), but this is not a requirement. "
      ]
    },
    {
      "cell_type": "code",
      "metadata": {
        "id": "7DlH-5YG5js1"
      },
      "source": [
        "from keras.callbacks import ModelCheckpoint  \r\n",
        "\r\n",
        "### TODO: specify the number of epochs that you would like to use to train the model.\r\n",
        "\r\n",
        "epochs = ...\r\n",
        "\r\n",
        "### Do NOT modify the code below this line.\r\n",
        "\r\n",
        "checkpointer = ModelCheckpoint(filepath='saved_models/weights.best.from_scratch.hdf5', \r\n",
        "                               verbose=1, save_best_only=True)\r\n",
        "\r\n",
        "model.fit(train_tensors, train_targets, \r\n",
        "          validation_data=(valid_tensors, valid_targets),\r\n",
        "          epochs=epochs, batch_size=20, callbacks=[checkpointer], verbose=1)"
      ],
      "execution_count": null,
      "outputs": []
    },
    {
      "cell_type": "markdown",
      "metadata": {
        "id": "OiiPf1Tg5lS7"
      },
      "source": [
        "### Load the Model with the Best Validation Loss"
      ]
    },
    {
      "cell_type": "code",
      "metadata": {
        "id": "RSEUSSZ05naS"
      },
      "source": [
        "model.load_weights('saved_models/weights.best.from_scratch.hdf5')"
      ],
      "execution_count": null,
      "outputs": []
    },
    {
      "cell_type": "markdown",
      "metadata": {
        "id": "yJ4KJUgZ5pML"
      },
      "source": [
        "### Test the Model\r\n",
        "\r\n",
        "Try out your model on the test dataset of dog images.  Ensure that your test accuracy is greater than 1%."
      ]
    },
    {
      "cell_type": "code",
      "metadata": {
        "id": "mKo1kbGL5qga"
      },
      "source": [
        "# get index of predicted dog breed for each image in test set\r\n",
        "dog_breed_predictions = [np.argmax(model.predict(np.expand_dims(tensor, axis=0))) for tensor in test_tensors]\r\n",
        "\r\n",
        "# report test accuracy\r\n",
        "test_accuracy = 100*np.sum(np.array(dog_breed_predictions)==np.argmax(test_targets, axis=1))/len(dog_breed_predictions)\r\n",
        "print('Test accuracy: %.4f%%' % test_accuracy)"
      ],
      "execution_count": null,
      "outputs": []
    },
    {
      "cell_type": "markdown",
      "metadata": {
        "id": "eFkB9lWK5tBr"
      },
      "source": [
        "---\r\n",
        "<a id='step4'></a>\r\n",
        "## Step 4: Use a CNN to Classify Dog Breeds\r\n",
        "\r\n",
        "To reduce training time without sacrificing accuracy, we show you how to train a CNN using transfer learning.  In the following step, you will get a chance to use transfer learning to train your own CNN.\r\n",
        "\r\n",
        "### Obtain Bottleneck Features"
      ]
    },
    {
      "cell_type": "code",
      "metadata": {
        "id": "GicUfsqvFbna"
      },
      "source": [
        "!wget https://s3-us-west-1.amazonaws.com/udacity-aind/dog-project/DogVGG16Data.npz\r\n",
        "!mv DogVGG16Data.npz bottleneck_features/ \r\n",
        "print(\"Bottleneck Features are ready to use\")"
      ],
      "execution_count": null,
      "outputs": []
    },
    {
      "cell_type": "code",
      "metadata": {
        "id": "pHKijzUD5uyK"
      },
      "source": [
        "bottleneck_features = np.load('bottleneck_features/DogVGG16Data.npz')\r\n",
        "train_VGG16 = bottleneck_features['train']\r\n",
        "valid_VGG16 = bottleneck_features['valid']\r\n",
        "test_VGG16 = bottleneck_features['test']"
      ],
      "execution_count": null,
      "outputs": []
    },
    {
      "cell_type": "markdown",
      "metadata": {
        "id": "PtFpV43v5w-7"
      },
      "source": [
        "### Model Architecture\r\n",
        "\r\n",
        "The model uses the the pre-trained VGG-16 model as a fixed feature extractor, where the last convolutional output of VGG-16 is fed as input to our model.  We only add a global average pooling layer and a fully connected layer, where the latter contains one node for each dog category and is equipped with a softmax."
      ]
    },
    {
      "cell_type": "code",
      "metadata": {
        "id": "cFe_dhSu5yT1"
      },
      "source": [
        "VGG16_model = Sequential()\r\n",
        "VGG16_model.add(GlobalAveragePooling2D(input_shape=train_VGG16.shape[1:]))\r\n",
        "VGG16_model.add(Dense(133, activation='softmax'))\r\n",
        "\r\n",
        "VGG16_model.summary()"
      ],
      "execution_count": null,
      "outputs": []
    },
    {
      "cell_type": "markdown",
      "metadata": {
        "id": "TkyWbrYi51RT"
      },
      "source": [
        "### Compile the Model"
      ]
    },
    {
      "cell_type": "code",
      "metadata": {
        "id": "sBav7Mu1517P"
      },
      "source": [
        "VGG16_model.compile(loss='categorical_crossentropy', optimizer='rmsprop', metrics=['accuracy'])"
      ],
      "execution_count": null,
      "outputs": []
    },
    {
      "cell_type": "markdown",
      "metadata": {
        "id": "Kl1A5XkY54Bb"
      },
      "source": [
        "### Train the Model"
      ]
    },
    {
      "cell_type": "code",
      "metadata": {
        "id": "cXcvPYgg56Zv"
      },
      "source": [
        "checkpointer = ModelCheckpoint(filepath='saved_models/weights.best.VGG16.hdf5', \r\n",
        "                               verbose=1, save_best_only=True)\r\n",
        "\r\n",
        "VGG16_model.fit(train_VGG16, train_targets, \r\n",
        "          validation_data=(valid_VGG16, valid_targets),\r\n",
        "          epochs=20, batch_size=20, callbacks=[checkpointer], verbose=1)"
      ],
      "execution_count": null,
      "outputs": []
    },
    {
      "cell_type": "markdown",
      "metadata": {
        "id": "viJTXlcP57-4"
      },
      "source": [
        "### Load the Model with the Best Validation Loss"
      ]
    },
    {
      "cell_type": "code",
      "metadata": {
        "id": "wnQUDLfE59eJ"
      },
      "source": [
        "VGG16_model.load_weights('saved_models/weights.best.VGG16.hdf5')"
      ],
      "execution_count": null,
      "outputs": []
    },
    {
      "cell_type": "markdown",
      "metadata": {
        "id": "xIRwJAJl5_c1"
      },
      "source": [
        "### Test the Model\r\n",
        "\r\n",
        "Now, we can use the CNN to test how well it identifies breed within our test dataset of dog images.  We print the test accuracy below."
      ]
    },
    {
      "cell_type": "code",
      "metadata": {
        "id": "Jus15U-96Aw8"
      },
      "source": [
        "# get index of predicted dog breed for each image in test set\r\n",
        "VGG16_predictions = [np.argmax(VGG16_model.predict(np.expand_dims(feature, axis=0))) for feature in test_VGG16]\r\n",
        "\r\n",
        "# report test accuracy\r\n",
        "test_accuracy = 100*np.sum(np.array(VGG16_predictions)==np.argmax(test_targets, axis=1))/len(VGG16_predictions)\r\n",
        "print('Test accuracy: %.4f%%' % test_accuracy)"
      ],
      "execution_count": null,
      "outputs": []
    },
    {
      "cell_type": "markdown",
      "metadata": {
        "id": "TAvV3Epy6BrK"
      },
      "source": [
        "### Predict Dog Breed with the Model"
      ]
    },
    {
      "cell_type": "code",
      "metadata": {
        "id": "v0TohmkC6D-t"
      },
      "source": [
        "from extract_bottleneck_features import *\r\n",
        "\r\n",
        "def VGG16_predict_breed(img_path):\r\n",
        "    # extract bottleneck features\r\n",
        "    bottleneck_feature = extract_VGG16(path_to_tensor(img_path))\r\n",
        "    # obtain predicted vector\r\n",
        "    predicted_vector = VGG16_model.predict(bottleneck_feature)\r\n",
        "    # return dog breed that is predicted by the model\r\n",
        "    return dog_names[np.argmax(predicted_vector)]"
      ],
      "execution_count": null,
      "outputs": []
    },
    {
      "cell_type": "markdown",
      "metadata": {
        "id": "j_cLtSzO6Gr9"
      },
      "source": [
        "---\r\n",
        "<a id='step5'></a>\r\n",
        "## Step 5: Create a CNN to Classify Dog Breeds (using Transfer Learning)\r\n",
        "\r\n",
        "You will now use transfer learning to create a CNN that can identify dog breed from images.  Your CNN must attain at least 60% accuracy on the test set.\r\n",
        "\r\n",
        "In Step 4, we used transfer learning to create a CNN using VGG-16 bottleneck features.  In this section, you must use the bottleneck features from a different pre-trained model.  To make things easier for you, we have pre-computed the features for all of the networks that are currently available in Keras:\r\n",
        "- [VGG-19](https://s3-us-west-1.amazonaws.com/udacity-aind/dog-project/DogVGG19Data.npz) bottleneck features\r\n",
        "- [ResNet-50](https://s3-us-west-1.amazonaws.com/udacity-aind/dog-project/DogResnet50Data.npz) bottleneck features\r\n",
        "- [Inception](https://s3-us-west-1.amazonaws.com/udacity-aind/dog-project/DogInceptionV3Data.npz) bottleneck features\r\n",
        "- [Xception](https://s3-us-west-1.amazonaws.com/udacity-aind/dog-project/DogXceptionData.npz) bottleneck features\r\n",
        "\r\n",
        "The files are encoded as such:\r\n",
        "\r\n",
        "    Dog{network}Data.npz\r\n",
        "    \r\n",
        "where `{network}`, in the above filename, can be one of `VGG19`, `Resnet50`, `InceptionV3`, or `Xception`.  Pick one of the above architectures, download the corresponding bottleneck features, and store the downloaded file in the `bottleneck_features/` folder in the repository.\r\n",
        "\r\n",
        "### (IMPLEMENTATION) Obtain Bottleneck Features\r\n",
        "\r\n",
        "In the code block below, extract the bottleneck features corresponding to the train, test, and validation sets by running the following:\r\n",
        "\r\n",
        "    bottleneck_features = np.load('bottleneck_features/Dog{network}Data.npz')\r\n",
        "    train_{network} = bottleneck_features['train']\r\n",
        "    valid_{network} = bottleneck_features['valid']\r\n",
        "    test_{network} = bottleneck_features['test']"
      ]
    },
    {
      "cell_type": "code",
      "metadata": {
        "id": "2wW6tu8X6HMi"
      },
      "source": [
        "### TODO: Obtain bottleneck features from another pre-trained CNN."
      ],
      "execution_count": null,
      "outputs": []
    },
    {
      "cell_type": "markdown",
      "metadata": {
        "id": "pnWgD0MB6JTq"
      },
      "source": [
        "### (IMPLEMENTATION) Model Architecture\r\n",
        "\r\n",
        "Create a CNN to classify dog breed.  At the end of your code cell block, summarize the layers of your model by executing the line:\r\n",
        "    \r\n",
        "        <your model's name>.summary()\r\n",
        "   \r\n",
        "__Question 5:__ Outline the steps you took to get to your final CNN architecture and your reasoning at each step.  Describe why you think the architecture is suitable for the current problem.\r\n",
        "\r\n",
        "__Answer:__ \r\n",
        "\r\n"
      ]
    },
    {
      "cell_type": "code",
      "metadata": {
        "id": "olE_srbZ6Ndq"
      },
      "source": [
        "### TODO: Define your architecture."
      ],
      "execution_count": null,
      "outputs": []
    },
    {
      "cell_type": "markdown",
      "metadata": {
        "id": "IoPmj7lo6QHK"
      },
      "source": [
        "### (IMPLEMENTATION) Compile the Model"
      ]
    },
    {
      "cell_type": "code",
      "metadata": {
        "id": "xqY-Dakh6OoT"
      },
      "source": [
        "### TODO: Compile the model."
      ],
      "execution_count": null,
      "outputs": []
    },
    {
      "cell_type": "markdown",
      "metadata": {
        "id": "TEwiU9696Ups"
      },
      "source": [
        "### (IMPLEMENTATION) Train the Model\r\n",
        "\r\n",
        "Train your model in the code cell below.  Use model checkpointing to save the model that attains the best validation loss.  \r\n",
        "\r\n",
        "You are welcome to [augment the training data](https://blog.keras.io/building-powerful-image-classification-models-using-very-little-data.html), but this is not a requirement. "
      ]
    },
    {
      "cell_type": "code",
      "metadata": {
        "id": "i3sVtulA6WdY"
      },
      "source": [
        "### TODO: Train the model."
      ],
      "execution_count": null,
      "outputs": []
    },
    {
      "cell_type": "markdown",
      "metadata": {
        "id": "v2OhHAHi6Xy9"
      },
      "source": [
        "### (IMPLEMENTATION) Load the Model with the Best Validation Loss"
      ]
    },
    {
      "cell_type": "code",
      "metadata": {
        "id": "7qZJpVCo6Zox"
      },
      "source": [
        "### TODO: Load the model weights with the best validation loss."
      ],
      "execution_count": null,
      "outputs": []
    },
    {
      "cell_type": "markdown",
      "metadata": {
        "id": "x9bdv4bd6cHc"
      },
      "source": [
        "### (IMPLEMENTATION) Test the Model\r\n",
        "\r\n",
        "Try out your model on the test dataset of dog images. Ensure that your test accuracy is greater than 60%."
      ]
    },
    {
      "cell_type": "code",
      "metadata": {
        "id": "KkUKxTRo6de5"
      },
      "source": [
        "### TODO: Calculate classification accuracy on the test dataset."
      ],
      "execution_count": null,
      "outputs": []
    },
    {
      "cell_type": "markdown",
      "metadata": {
        "id": "qf5oq3qi6fOC"
      },
      "source": [
        "### (IMPLEMENTATION) Predict Dog Breed with the Model\r\n",
        "\r\n",
        "Write a function that takes an image path as input and returns the dog breed (`Affenpinscher`, `Afghan_hound`, etc) that is predicted by your model.  \r\n",
        "\r\n",
        "Similar to the analogous function in Step 5, your function should have three steps:\r\n",
        "1. Extract the bottleneck features corresponding to the chosen CNN model.\r\n",
        "2. Supply the bottleneck features as input to the model to return the predicted vector.  Note that the argmax of this prediction vector gives the index of the predicted dog breed.\r\n",
        "3. Use the `dog_names` array defined in Step 0 of this notebook to return the corresponding breed.\r\n",
        "\r\n",
        "The functions to extract the bottleneck features can be found in `extract_bottleneck_features.py`, and they have been imported in an earlier code cell.  To obtain the bottleneck features corresponding to your chosen CNN architecture, you need to use the function\r\n",
        "\r\n",
        "    extract_{network}\r\n",
        "    \r\n",
        "where `{network}`, in the above filename, should be one of `VGG19`, `Resnet50`, `InceptionV3`, or `Xception`."
      ]
    },
    {
      "cell_type": "code",
      "metadata": {
        "id": "KzKuJBr_6hDs"
      },
      "source": [
        "### TODO: Write a function that takes a path to an image as input\r\n",
        "### and returns the dog breed that is predicted by the model."
      ],
      "execution_count": null,
      "outputs": []
    },
    {
      "cell_type": "markdown",
      "metadata": {
        "id": "OE7UzNby6kUz"
      },
      "source": [
        "---\r\n",
        "<a id='step6'></a>\r\n",
        "## Step 6: Write your Algorithm\r\n",
        "\r\n",
        "Write an algorithm that accepts a file path to an image and first determines whether the image contains a human, dog, or neither.  Then,\r\n",
        "- if a __dog__ is detected in the image, return the predicted breed.\r\n",
        "- if a __human__ is detected in the image, return the resembling dog breed.\r\n",
        "- if __neither__ is detected in the image, provide output that indicates an error.\r\n",
        "\r\n",
        "You are welcome to write your own functions for detecting humans and dogs in images, but feel free to use the `face_detector` and `dog_detector` functions developed above.  You are __required__ to use your CNN from Step 5 to predict dog breed.  \r\n",
        "\r\n",
        "Some sample output for our algorithm is provided below, but feel free to design your own user experience!\r\n",
        "\r\n",
        "![Sample Human Output](images/sample_human_output.png)\r\n",
        "\r\n",
        "\r\n",
        "### (IMPLEMENTATION) Write your Algorithm"
      ]
    },
    {
      "cell_type": "code",
      "metadata": {
        "id": "DVw5RTPm6lOg"
      },
      "source": [
        "### TODO: Write your algorithm.\r\n",
        "### Feel free to use as many code cells as needed."
      ],
      "execution_count": null,
      "outputs": []
    },
    {
      "cell_type": "markdown",
      "metadata": {
        "id": "8S-y5Tf36nFw"
      },
      "source": [
        "---\r\n",
        "<a id='step7'></a>\r\n",
        "## Step 7: Test Your Algorithm\r\n",
        "\r\n",
        "In this section, you will take your new algorithm for a spin!  What kind of dog does the algorithm think that __you__ look like?  If you have a dog, does it predict your dog's breed accurately?  If you have a cat, does it mistakenly think that your cat is a dog?\r\n",
        "\r\n",
        "### (IMPLEMENTATION) Test Your Algorithm on Sample Images!\r\n",
        "\r\n",
        "Test your algorithm at least six images on your computer.  Feel free to use any images you like.  Use at least two human and two dog images.  \r\n",
        "\r\n",
        "__Question 6:__ Is the output better than you expected :) ?  Or worse :( ?  Provide at least three possible points of improvement for your algorithm.\r\n",
        "\r\n",
        "__Answer:__ "
      ]
    },
    {
      "cell_type": "code",
      "metadata": {
        "id": "aWx_Y3gO6pYL"
      },
      "source": [
        "## TODO: Execute your algorithm from Step 6 on\r\n",
        "## at least 6 images on your computer.\r\n",
        "## Feel free to use as many code cells as needed."
      ],
      "execution_count": null,
      "outputs": []
    }
  ]
}