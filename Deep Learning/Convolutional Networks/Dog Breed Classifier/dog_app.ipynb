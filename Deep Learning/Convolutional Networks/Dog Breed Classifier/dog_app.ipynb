{
  "nbformat": 4,
  "nbformat_minor": 0,
  "metadata": {
    "colab": {
      "name": "dog_app.ipynb",
      "provenance": [],
      "collapsed_sections": [],
      "machine_shape": "hm"
    },
    "kernelspec": {
      "name": "python3",
      "display_name": "Python 3"
    },
    "accelerator": "GPU"
  },
  "cells": [
    {
      "cell_type": "markdown",
      "metadata": {
        "id": "erNxJLTT3_RU"
      },
      "source": [
        "# Convolutional Neural Networks\r\n",
        "\r\n",
        "## Project: Write an Algorithm for a Dog Identification App \r\n",
        "\r\n",
        "---\r\n",
        "\r\n",
        "In this notebook, some template code has already been provided for you, and you will need to implement additional functionality to successfully complete this project. You will not need to modify the included code beyond what is requested. Sections that begin with **'(IMPLEMENTATION)'** in the header indicate that the following block of code will require additional functionality which you must provide. Instructions will be provided for each section, and the specifics of the implementation are marked in the code block with a 'TODO' statement. Please be sure to read the instructions carefully! \r\n",
        "\r\n",
        "> **Note**: Once you have completed all of the code implementations, you need to finalize your work by exporting the iPython Notebook as an HTML document. Before exporting the notebook to html, all of the code cells need to have been run so that reviewers can see the final implementation and output. You can then export the notebook by using the menu above and navigating to  \\n\",\r\n",
        "    \"**File -> Download as -> HTML (.html)**. Include the finished document along with this notebook as your submission.\r\n",
        "\r\n",
        "In addition to implementing code, there will be questions that you must answer which relate to the project and your implementation. Each section where you will answer a question is preceded by a **'Question X'** header. Carefully read each question and provide thorough answers in the following text boxes that begin with **'Answer:'**. Your project submission will be evaluated based on your answers to each of the questions and the implementation you provide.\r\n",
        "\r\n",
        ">**Note:** Code and Markdown cells can be executed using the **Shift + Enter** keyboard shortcut.  Markdown cells can be edited by double-clicking the cell to enter edit mode.\r\n",
        "\r\n",
        "The rubric contains _optional_ \"Stand Out Suggestions\" for enhancing the project beyond the minimum requirements. If you decide to pursue the \"Stand Out Suggestions\", you should include the code in this IPython notebook.\r\n",
        "\r\n",
        "\r\n",
        "\r\n",
        "---\r\n",
        "### Why We're Here \r\n",
        "\r\n",
        "In this notebook, you will make the first steps towards developing an algorithm that could be used as part of a mobile or web app.  At the end of this project, your code will accept any user-supplied image as input.  If a dog is detected in the image, it will provide an estimate of the dog's breed.  If a human is detected, it will provide an estimate of the dog breed that is most resembling.  The image below displays potential sample output of your finished project (... but we expect that each student's algorithm will behave differently!). \r\n",
        "\r\n",
        "![Sample Dog Output](images/sample_dog_output.png)\r\n",
        "\r\n",
        "In this real-world setting, you will need to piece together a series of models to perform different tasks; for instance, the algorithm that detects humans in an image will be different from the CNN that infers dog breed.  There are many points of possible failure, and no perfect algorithm exists.  Your imperfect solution will nonetheless create a fun user experience!\r\n",
        "\r\n",
        "### The Road Ahead\r\n",
        "\r\n",
        "We break the notebook into separate steps.  Feel free to use the links below to navigate the notebook.\r\n",
        "\r\n",
        "* [Step 0](#step0): Import Datasets\r\n",
        "* [Step 1](#step1): Detect Humans\r\n",
        "* [Step 2](#step2): Detect Dogs\r\n",
        "* [Step 3](#step3): Create a CNN to Classify Dog Breeds (from Scratch)\r\n",
        "* [Step 4](#step4): Use a CNN to Classify Dog Breeds (using Transfer Learning)\r\n",
        "* [Step 5](#step5): Create a CNN to Classify Dog Breeds (using Transfer Learning)\r\n",
        "* [Step 6](#step6): Write your Algorithm\r\n",
        "* [Step 7](#step7): Test Your Algorithm\r\n",
        "\r\n",
        "---\r\n",
        "<a id='step0'></a>\r\n",
        "## Step 0: Import Datasets\r\n",
        "\r\n",
        "### Import Dog Dataset\r\n",
        "\r\n",
        "In the code cell below, we import a dataset of dog images.  We populate a few variables through the use of the `load_files` function from the scikit-learn library:\r\n",
        "- `train_files`, `valid_files`, `test_files` - numpy arrays containing file paths to images\r\n",
        "- `train_targets`, `valid_targets`, `test_targets` - numpy arrays containing onehot-encoded classification labels \r\n",
        "- `dog_names` - list of string-valued dog breed names for translating labels"
      ]
    },
    {
      "cell_type": "code",
      "metadata": {
        "colab": {
          "base_uri": "https://localhost:8080/"
        },
        "id": "CeOk3u6t0JLE",
        "outputId": "672c83d4-c91a-4440-8be5-8c8c5f32c280"
      },
      "source": [
        "# Make your environment ready\r\n",
        "\r\n",
        "!rm -r /content/*\r\n",
        "!git clone https://github.com/udacity/dog-project.git\r\n",
        "!rm -r dog-project/requirements\r\n",
        "!rm dog-project/CODEOWNERS\r\n",
        "!rm dog-project/dog_app.ipynb\r\n",
        "!rm dog-project/LICENSE.txt\r\n",
        "!rm dog-project/README.md\r\n",
        "!mv dog-project/* /content\r\n",
        "!rm -r dog-project"
      ],
      "execution_count": 1,
      "outputs": [
        {
          "output_type": "stream",
          "text": [
            "Cloning into 'dog-project'...\n",
            "remote: Enumerating objects: 243, done.\u001b[K\n",
            "remote: Total 243 (delta 0), reused 0 (delta 0), pack-reused 243\u001b[K\n",
            "Receiving objects: 100% (243/243), 55.14 MiB | 35.92 MiB/s, done.\n",
            "Resolving deltas: 100% (115/115), done.\n"
          ],
          "name": "stdout"
        }
      ]
    },
    {
      "cell_type": "code",
      "metadata": {
        "colab": {
          "base_uri": "https://localhost:8080/"
        },
        "id": "1PSoK2Qc3XQn",
        "outputId": "3f1746a6-399c-4041-a0f2-2548a9ddc7cf"
      },
      "source": [
        "%tensorflow_version 1.x"
      ],
      "execution_count": 2,
      "outputs": [
        {
          "output_type": "stream",
          "text": [
            "TensorFlow 1.x selected.\n"
          ],
          "name": "stdout"
        }
      ]
    },
    {
      "cell_type": "code",
      "metadata": {
        "colab": {
          "base_uri": "https://localhost:8080/"
        },
        "id": "cPSIyCM__58R",
        "outputId": "1daff104-8132-4dd4-db62-58446d6ad21e"
      },
      "source": [
        "!rm -r dogImages\r\n",
        "!wget https://s3-us-west-1.amazonaws.com/udacity-aind/dog-project/dogImages.zip\r\n",
        "!unzip -q dogImages.zip\r\n",
        "!rm dogImages.zip\r\n",
        "print(\"Dataset is ready to use\")"
      ],
      "execution_count": 3,
      "outputs": [
        {
          "output_type": "stream",
          "text": [
            "rm: cannot remove 'dogImages': No such file or directory\n",
            "--2021-01-12 10:13:38--  https://s3-us-west-1.amazonaws.com/udacity-aind/dog-project/dogImages.zip\n",
            "Resolving s3-us-west-1.amazonaws.com (s3-us-west-1.amazonaws.com)... 52.219.112.168\n",
            "Connecting to s3-us-west-1.amazonaws.com (s3-us-west-1.amazonaws.com)|52.219.112.168|:443... connected.\n",
            "HTTP request sent, awaiting response... 200 OK\n",
            "Length: 1132023110 (1.1G) [application/zip]\n",
            "Saving to: ‘dogImages.zip’\n",
            "\n",
            "dogImages.zip       100%[===================>]   1.05G  36.6MB/s    in 30s     \n",
            "\n",
            "2021-01-12 10:14:09 (36.6 MB/s) - ‘dogImages.zip’ saved [1132023110/1132023110]\n",
            "\n",
            "Dataset is ready to use\n"
          ],
          "name": "stdout"
        }
      ]
    },
    {
      "cell_type": "code",
      "metadata": {
        "colab": {
          "base_uri": "https://localhost:8080/"
        },
        "id": "8bk7BB_u4L4Y",
        "outputId": "be7897f9-2171-4dd3-b6ce-62aaf9be3682"
      },
      "source": [
        "from sklearn.datasets import load_files       \r\n",
        "from keras.utils import np_utils\r\n",
        "import numpy as np\r\n",
        "from glob import glob\r\n",
        "\r\n",
        "# define function to load train, test, and validation datasets\r\n",
        "def load_dataset(path):\r\n",
        "    data = load_files(path)\r\n",
        "    dog_files = np.array(data['filenames'])\r\n",
        "    dog_targets = np_utils.to_categorical(np.array(data['target']), 133)\r\n",
        "    return dog_files, dog_targets\r\n",
        "\r\n",
        "# load train, test, and validation datasets\r\n",
        "train_files, train_targets = load_dataset('dogImages/train')\r\n",
        "valid_files, valid_targets = load_dataset('dogImages/valid')\r\n",
        "test_files, test_targets = load_dataset('dogImages/test')\r\n",
        "\r\n",
        "# load list of dog names\r\n",
        "dog_names = [item[20:-1] for item in sorted(glob(\"dogImages/train/*/\"))]\r\n",
        "\r\n",
        "# print statistics about the dataset\r\n",
        "print('There are %d total dog categories.' % len(dog_names))\r\n",
        "print('There are %s total dog images.\\n' % len(np.hstack([train_files, valid_files, test_files])))\r\n",
        "print('There are %d training dog images.' % len(train_files))\r\n",
        "print('There are %d validation dog images.' % len(valid_files))\r\n",
        "print('There are %d test dog images.'% len(test_files))"
      ],
      "execution_count": 4,
      "outputs": [
        {
          "output_type": "stream",
          "text": [
            "Using TensorFlow backend.\n"
          ],
          "name": "stderr"
        },
        {
          "output_type": "stream",
          "text": [
            "There are 133 total dog categories.\n",
            "There are 8351 total dog images.\n",
            "\n",
            "There are 6680 training dog images.\n",
            "There are 835 validation dog images.\n",
            "There are 836 test dog images.\n"
          ],
          "name": "stdout"
        }
      ]
    },
    {
      "cell_type": "markdown",
      "metadata": {
        "id": "OBfTYE0f4PUI"
      },
      "source": [
        "### Import Human Dataset\r\n",
        "\r\n",
        "In the code cell below, we import a dataset of human images, where the file paths are stored in the numpy array `human_files`."
      ]
    },
    {
      "cell_type": "code",
      "metadata": {
        "colab": {
          "base_uri": "https://localhost:8080/"
        },
        "id": "AvV2kPcdAKC-",
        "outputId": "a8c0e5ed-fc39-45ee-f4a2-e454cb26af35"
      },
      "source": [
        "!rm -r lfw\r\n",
        "!wget https://s3-us-west-1.amazonaws.com/udacity-aind/dog-project/lfw.zip\r\n",
        "!unzip -q lfw.zip\r\n",
        "!rm -r __MACOSX\r\n",
        "!rm lfw.zip\r\n",
        "print(\"Dataset is ready to use\")"
      ],
      "execution_count": 5,
      "outputs": [
        {
          "output_type": "stream",
          "text": [
            "rm: cannot remove 'lfw': No such file or directory\n",
            "--2021-01-12 10:14:28--  https://s3-us-west-1.amazonaws.com/udacity-aind/dog-project/lfw.zip\n",
            "Resolving s3-us-west-1.amazonaws.com (s3-us-west-1.amazonaws.com)... 52.219.112.200\n",
            "Connecting to s3-us-west-1.amazonaws.com (s3-us-west-1.amazonaws.com)|52.219.112.200|:443... connected.\n",
            "HTTP request sent, awaiting response... 200 OK\n",
            "Length: 196739509 (188M) [application/zip]\n",
            "Saving to: ‘lfw.zip’\n",
            "\n",
            "lfw.zip             100%[===================>] 187.62M  36.1MB/s    in 5.7s    \n",
            "\n",
            "2021-01-12 10:14:34 (32.9 MB/s) - ‘lfw.zip’ saved [196739509/196739509]\n",
            "\n",
            "Dataset is ready to use\n"
          ],
          "name": "stdout"
        }
      ]
    },
    {
      "cell_type": "code",
      "metadata": {
        "colab": {
          "base_uri": "https://localhost:8080/"
        },
        "id": "Udj03MSL4WW6",
        "outputId": "4e08d28a-9eb7-4b31-a7fb-b6d7478249ba"
      },
      "source": [
        "import random\r\n",
        "random.seed(8675309)\r\n",
        "\r\n",
        "# load filenames in shuffled human dataset\r\n",
        "human_files = np.array(glob(\"lfw/*/*\"))\r\n",
        "random.shuffle(human_files)\r\n",
        "\r\n",
        "# print statistics about the dataset\r\n",
        "print('There are %d total human images.' % len(human_files))"
      ],
      "execution_count": 6,
      "outputs": [
        {
          "output_type": "stream",
          "text": [
            "There are 13233 total human images.\n"
          ],
          "name": "stdout"
        }
      ]
    },
    {
      "cell_type": "markdown",
      "metadata": {
        "id": "MgC9H5SO4aRR"
      },
      "source": [
        "---\r\n",
        "<a id='step1'></a>\r\n",
        "## Step 1: Detect Humans\r\n",
        "\r\n",
        "We use OpenCV's implementation of [Haar feature-based cascade classifiers](http://docs.opencv.org/trunk/d7/d8b/tutorial_py_face_detection.html) to detect human faces in images.  OpenCV provides many pre-trained face detectors, stored as XML files on [github](https://github.com/opencv/opencv/tree/master/data/haarcascades).  We have downloaded one of these detectors and stored it in the `haarcascades` directory.\r\n",
        "\r\n",
        "In the next code cell, we demonstrate how to use this detector to find human faces in a sample image."
      ]
    },
    {
      "cell_type": "code",
      "metadata": {
        "colab": {
          "base_uri": "https://localhost:8080/",
          "height": 286
        },
        "id": "lkQW11344crD",
        "outputId": "139102ca-584d-4223-a427-4b91d5b96371"
      },
      "source": [
        "import cv2                \r\n",
        "import matplotlib.pyplot as plt                        \r\n",
        "%matplotlib inline                               \r\n",
        "\r\n",
        "# extract pre-trained face detector\r\n",
        "face_cascade = cv2.CascadeClassifier('haarcascades/haarcascade_frontalface_alt.xml')\r\n",
        "\r\n",
        "# load color (BGR) image\r\n",
        "img = cv2.imread(human_files[7])\r\n",
        "# convert BGR image to grayscale\r\n",
        "gray = cv2.cvtColor(img, cv2.COLOR_BGR2GRAY)\r\n",
        "\r\n",
        "# find faces in image\r\n",
        "faces = face_cascade.detectMultiScale(gray)\r\n",
        "\r\n",
        "# print number of faces detected in the image\r\n",
        "print('Number of faces detected:', len(faces))\r\n",
        "\r\n",
        "# get bounding box for each detected face\r\n",
        "for (x,y,w,h) in faces:\r\n",
        "    # add bounding box to color image\r\n",
        "    cv2.rectangle(img,(x,y),(x+w,y+h),(255,0,0),2)\r\n",
        "    \r\n",
        "# convert BGR image to RGB for plotting\r\n",
        "cv_rgb = cv2.cvtColor(img, cv2.COLOR_BGR2RGB)\r\n",
        "\r\n",
        "# display the image, along with bounding box\r\n",
        "plt.imshow(cv_rgb)\r\n",
        "plt.show()"
      ],
      "execution_count": 7,
      "outputs": [
        {
          "output_type": "stream",
          "text": [
            "Number of faces detected: 1\n"
          ],
          "name": "stdout"
        },
        {
          "output_type": "display_data",
          "data": {
            "image/png": "[encoded data removed]",
            "text/plain": [
              "<Figure size 432x288 with 1 Axes>"
            ]
          },
          "metadata": {
            "tags": [],
            "needs_background": "light"
          }
        }
      ]
    },
    {
      "cell_type": "markdown",
      "metadata": {
        "id": "FFXtXlVF4fvv"
      },
      "source": [
        "Before using any of the face detectors, it is standard procedure to convert the images to grayscale.  The `detectMultiScale` function executes the classifier stored in `face_cascade` and takes the grayscale image as a parameter.  \r\n",
        "\r\n",
        "In the above code, `faces` is a numpy array of detected faces, where each row corresponds to a detected face.  Each detected face is a 1D array with four entries that specifies the bounding box of the detected face.  The first two entries in the array (extracted in the above code as `x` and `y`) specify the horizontal and vertical positions of the top left corner of the bounding box.  The last two entries in the array (extracted here as `w` and `h`) specify the width and height of the box.\r\n",
        "\r\n",
        "### Write a Human Face Detector\r\n",
        "\r\n",
        "We can use this procedure to write a function that returns `True` if a human face is detected in an image and `False` otherwise.  This function, aptly named `face_detector`, takes a string-valued file path to an image as input and appears in the code block below."
      ]
    },
    {
      "cell_type": "code",
      "metadata": {
        "id": "BN-2VxTc4n9G"
      },
      "source": [
        "# returns \"True\" if face is detected in image stored at img_path\r\n",
        "def face_detector(img_path):\r\n",
        "    img = cv2.imread(img_path)\r\n",
        "    gray = cv2.cvtColor(img, cv2.COLOR_BGR2GRAY)\r\n",
        "    faces = face_cascade.detectMultiScale(gray)\r\n",
        "    return len(faces) > 0"
      ],
      "execution_count": 8,
      "outputs": []
    },
    {
      "cell_type": "markdown",
      "metadata": {
        "id": "2F8NErmY4qim"
      },
      "source": [
        "### (IMPLEMENTATION) Assess the Human Face Detector\r\n",
        "\r\n",
        "__Question 1:__ Use the code cell below to test the performance of the `face_detector` function.  \r\n",
        "- What percentage of the first 100 images in `human_files` have a detected human face?  \r\n",
        "- What percentage of the first 100 images in `dog_files` have a detected human face? \r\n",
        "\r\n",
        "Ideally, we would like 100% of human images with a detected face and 0% of dog images with a detected face.  You will see that our algorithm falls short of this goal, but still gives acceptable performance.  We extract the file paths for the first 100 images from each of the datasets and store them in the numpy arrays `human_files_short` and `dog_files_short`.\r\n",
        "\r\n",
        "__Answer:__ \r\n",
        "- 99% of the first 100 images in `human_files` have a detected human face.\r\n",
        "- 12% of the first 100 images in `dog_files` have a detected human face."
      ]
    },
    {
      "cell_type": "code",
      "metadata": {
        "colab": {
          "base_uri": "https://localhost:8080/"
        },
        "id": "k80QHfre4tO5",
        "outputId": "c71a271e-da07-46c5-d6ad-4f8f147ef064"
      },
      "source": [
        "human_files_short = human_files[:100]\r\n",
        "dog_files_short = train_files[:100]\r\n",
        "# Do NOT modify the code above this line.\r\n",
        "\r\n",
        "## TODO: Test the performance of the face_detector algorithm \r\n",
        "## on the images in human_files_short and dog_files_short.\r\n",
        "\r\n",
        "humans = 0\r\n",
        "dogs = 0\r\n",
        "\r\n",
        "for h in human_files_short:\r\n",
        "  if face_detector(h)==True:\r\n",
        "    humans += 1\r\n",
        "\r\n",
        "for d in dog_files_short:\r\n",
        "  if face_detector(d)==True:\r\n",
        "    dogs += 1\r\n",
        "\r\n",
        "print(\"{}% of the first 100 images in human_files have a detected human face\".format(humans))\r\n",
        "print(\"{}% of the first 100 images in dog_files have a detected human face.\".format(dogs))"
      ],
      "execution_count": 9,
      "outputs": [
        {
          "output_type": "stream",
          "text": [
            "99% of the first 100 images in human_files have a detected human face\n",
            "12% of the first 100 images in dog_files have a detected human face.\n"
          ],
          "name": "stdout"
        }
      ]
    },
    {
      "cell_type": "markdown",
      "metadata": {
        "id": "HLBfH4wd4vfm"
      },
      "source": [
        "__Question 2:__ This algorithmic choice necessitates that we communicate to the user that we accept human images only when they provide a clear view of a face (otherwise, we risk having unneccessarily frustrated users!). In your opinion, is this a reasonable expectation to pose on the user? If not, can you think of a way to detect humans in images that does not necessitate an image with a clearly presented face?\r\n",
        "\r\n",
        "__Answer:__\r\n",
        "\r\n",
        "(We suggest the face detector from OpenCV as a potential way to detect human images in your algorithm, but you are free to explore other approaches, especially approaches that make use of deep learning :).  Please use the code cell below to design and test your own face detection algorithm.  If you decide to pursue this _optional_ task, report performance on each of the datasets.)\r\n",
        "\r\n",
        "Used [face-recognition](https://pypi.org/project/face-recognition/), but has some different outputs compared to previous face detector.\r\n",
        "\r\n",
        "Below are the outputs:\r\n",
        "- 100% of the first 100 images in human_files have a detected human face\r\n",
        "- 10% of the first 100 images in dog_files have a detected human face."
      ]
    },
    {
      "cell_type": "code",
      "metadata": {
        "id": "CUePk8S6sBVl",
        "colab": {
          "base_uri": "https://localhost:8080/"
        },
        "outputId": "71440bda-7f7e-4a34-ad0f-6b55ff3d7849"
      },
      "source": [
        "# https://pypi.org/project/face-recognition/\r\n",
        "!pip -qq install face-recognition"
      ],
      "execution_count": 10,
      "outputs": [
        {
          "output_type": "stream",
          "text": [
            "\u001b[K     |████████████████████████████████| 100.2MB 31kB/s \n",
            "\u001b[?25h  Building wheel for face-recognition-models (setup.py) ... \u001b[?25l\u001b[?25hdone\n"
          ],
          "name": "stdout"
        }
      ]
    },
    {
      "cell_type": "code",
      "metadata": {
        "id": "jOxDbyYe4y6S",
        "colab": {
          "base_uri": "https://localhost:8080/"
        },
        "outputId": "4d259e9e-ccb7-4199-91d1-24c4aa906352"
      },
      "source": [
        "## (Optional) TODO: Report the performance of another  \r\n",
        "## face detection algorithm on the LFW dataset\r\n",
        "### Feel free to use as many code cells as needed.\r\n",
        "import face_recognition\r\n",
        "\r\n",
        "def face_detector_other(img_path):\r\n",
        "    img = face_recognition.load_image_file(img_path)\r\n",
        "    faces = face_recognition.face_locations(img)\r\n",
        "    return len(faces) > 0\r\n",
        "\r\n",
        "humans = 0\r\n",
        "dogs = 0\r\n",
        "\r\n",
        "for h in human_files_short:\r\n",
        "  if face_detector_other(h)==True:\r\n",
        "    humans += 1\r\n",
        "\r\n",
        "for d in dog_files_short:\r\n",
        "  if face_detector_other(d)==True:\r\n",
        "    dogs += 1\r\n",
        "\r\n",
        "print(\"{}% of the first 100 images in human_files have a detected human face\".format(humans))\r\n",
        "print(\"{}% of the first 100 images in dog_files have a detected human face.\".format(dogs))"
      ],
      "execution_count": 11,
      "outputs": [
        {
          "output_type": "stream",
          "text": [
            "100% of the first 100 images in human_files have a detected human face\n",
            "10% of the first 100 images in dog_files have a detected human face.\n"
          ],
          "name": "stdout"
        }
      ]
    },
    {
      "cell_type": "markdown",
      "metadata": {
        "id": "56aKo4eu42I9"
      },
      "source": [
        "---\r\n",
        "<a id='step2'></a>\r\n",
        "## Step 2: Detect Dogs\r\n",
        "\r\n",
        "In this section, we use a pre-trained [ResNet-50](http://ethereon.github.io/netscope/#/gist/db945b393d40bfa26006) model to detect dogs in images.  Our first line of code downloads the ResNet-50 model, along with weights that have been trained on [ImageNet](http://www.image-net.org/), a very large, very popular dataset used for image classification and other vision tasks.  ImageNet contains over 10 million URLs, each linking to an image containing an object from one of [1000 categories](https://gist.github.com/yrevar/942d3a0ac09ec9e5eb3a).  Given an image, this pre-trained ResNet-50 model returns a prediction (derived from the available categories in ImageNet) for the object that is contained in the image."
      ]
    },
    {
      "cell_type": "code",
      "metadata": {
        "id": "C8t3U_iV45bE",
        "colab": {
          "base_uri": "https://localhost:8080/"
        },
        "outputId": "bc18893d-9b99-4796-d6cf-515ffe1f5db1"
      },
      "source": [
        "from keras.applications.resnet50 import ResNet50\r\n",
        "\r\n",
        "# define ResNet50 model\r\n",
        "ResNet50_model = ResNet50(weights='imagenet')"
      ],
      "execution_count": 12,
      "outputs": [
        {
          "output_type": "stream",
          "text": [
            "WARNING:tensorflow:From /tensorflow-1.15.2/python3.6/tensorflow_core/python/ops/resource_variable_ops.py:1630: calling BaseResourceVariable.__init__ (from tensorflow.python.ops.resource_variable_ops) with constraint is deprecated and will be removed in a future version.\n",
            "Instructions for updating:\n",
            "If using Keras pass *_constraint arguments to layers.\n",
            "WARNING:tensorflow:From /tensorflow-1.15.2/python3.6/keras/backend/tensorflow_backend.py:4070: The name tf.nn.max_pool is deprecated. Please use tf.nn.max_pool2d instead.\n",
            "\n",
            "Downloading data from https://github.com/fchollet/deep-learning-models/releases/download/v0.2/resnet50_weights_tf_dim_ordering_tf_kernels.h5\n",
            "102858752/102853048 [==============================] - 2s 0us/step\n"
          ],
          "name": "stdout"
        }
      ]
    },
    {
      "cell_type": "markdown",
      "metadata": {
        "id": "wo7iE6Yk5Bml"
      },
      "source": [
        "### Pre-process the Data\r\n",
        "\r\n",
        "When using TensorFlow as backend, Keras CNNs require a 4D array (which we'll also refer to as a 4D tensor) as input, with shape\r\n",
        "\r\n",
        "$$\r\n",
        "(\\text{nb_samples}, \\text{rows}, \\text{columns}, \\text{channels}),\r\n",
        "$$\r\n",
        "\r\n",
        "where `nb_samples` corresponds to the total number of images (or samples), and `rows`, `columns`, and `channels` correspond to the number of rows, columns, and channels for each image, respectively.  \r\n",
        "\r\n",
        "The `path_to_tensor` function below takes a string-valued file path to a color image as input and returns a 4D tensor suitable for supplying to a Keras CNN.  The function first loads the image and resizes it to a square image that is $224 \\times 224$ pixels.  Next, the image is converted to an array, which is then resized to a 4D tensor.  In this case, since we are working with color images, each image has three channels.  Likewise, since we are processing a single image (or sample), the returned tensor will always have shape\r\n",
        "\r\n",
        "$$\r\n",
        "(1, 224, 224, 3).\r\n",
        "$$\r\n",
        "\r\n",
        "The `paths_to_tensor` function takes a numpy array of string-valued image paths as input and returns a 4D tensor with shape \r\n",
        "\r\n",
        "$$\r\n",
        "(\\text{nb_samples}, 224, 224, 3).\r\n",
        "$$\r\n",
        "\r\n",
        "Here, `nb_samples` is the number of samples, or number of images, in the supplied array of image paths.  It is best to think of `nb_samples` as the number of 3D tensors (where each 3D tensor corresponds to a different image) in your dataset!"
      ]
    },
    {
      "cell_type": "code",
      "metadata": {
        "id": "j4pibozW5CDJ"
      },
      "source": [
        "from keras.preprocessing import image                  \r\n",
        "from tqdm import tqdm\r\n",
        "\r\n",
        "def path_to_tensor(img_path):\r\n",
        "    # loads RGB image as PIL.Image.Image type\r\n",
        "    img = image.load_img(img_path, target_size=(224, 224))\r\n",
        "    # convert PIL.Image.Image type to 3D tensor with shape (224, 224, 3)\r\n",
        "    x = image.img_to_array(img)\r\n",
        "    # convert 3D tensor to 4D tensor with shape (1, 224, 224, 3) and return 4D tensor\r\n",
        "    return np.expand_dims(x, axis=0)\r\n",
        "\r\n",
        "def paths_to_tensor(img_paths):\r\n",
        "    list_of_tensors = [path_to_tensor(img_path) for img_path in tqdm(img_paths)]\r\n",
        "    return np.vstack(list_of_tensors)"
      ],
      "execution_count": 13,
      "outputs": []
    },
    {
      "cell_type": "markdown",
      "metadata": {
        "id": "lAg_t5SN5G7l"
      },
      "source": [
        "### Making Predictions with ResNet-50\r\n",
        "\r\n",
        "Getting the 4D tensor ready for ResNet-50, and for any other pre-trained model in Keras, requires some additional processing.  First, the RGB image is converted to BGR by reordering the channels.  All pre-trained models have the additional normalization step that the mean pixel (expressed in RGB as $[103.939, 116.779, 123.68]$ and calculated from all pixels in all images in ImageNet) must be subtracted from every pixel in each image.  This is implemented in the imported function `preprocess_input`.  If you're curious, you can check the code for `preprocess_input` [here](https://github.com/fchollet/keras/blob/master/keras/applications/imagenet_utils.py).\r\n",
        "\r\n",
        "Now that we have a way to format our image for supplying to ResNet-50, we are now ready to use the model to extract the predictions.  This is accomplished with the `predict` method, which returns an array whose $i$-th entry is the model's predicted probability that the image belongs to the $i$-th ImageNet category.  This is implemented in the `ResNet50_predict_labels` function below.\r\n",
        "\r\n",
        "By taking the argmax of the predicted probability vector, we obtain an integer corresponding to the model's predicted object class, which we can identify with an object category through the use of this [dictionary](https://gist.github.com/yrevar/942d3a0ac09ec9e5eb3a). "
      ]
    },
    {
      "cell_type": "code",
      "metadata": {
        "id": "iKm-HNG_5HZU"
      },
      "source": [
        "from keras.applications.resnet50 import preprocess_input, decode_predictions\r\n",
        "\r\n",
        "def ResNet50_predict_labels(img_path):\r\n",
        "    # returns prediction vector for image located at img_path\r\n",
        "    img = preprocess_input(path_to_tensor(img_path))\r\n",
        "    return np.argmax(ResNet50_model.predict(img))"
      ],
      "execution_count": 14,
      "outputs": []
    },
    {
      "cell_type": "markdown",
      "metadata": {
        "id": "fSqwjD9m5JnW"
      },
      "source": [
        "### Write a Dog Detector\r\n",
        "\r\n",
        "While looking at the [dictionary](https://gist.github.com/yrevar/942d3a0ac09ec9e5eb3a), you will notice that the categories corresponding to dogs appear in an uninterrupted sequence and correspond to dictionary keys 151-268, inclusive, to include all categories from `'Chihuahua'` to `'Mexican hairless'`.  Thus, in order to check to see if an image is predicted to contain a dog by the pre-trained ResNet-50 model, we need only check if the `ResNet50_predict_labels` function above returns a value between 151 and 268 (inclusive).\r\n",
        "\r\n",
        "We use these ideas to complete the `dog_detector` function below, which returns `True` if a dog is detected in an image (and `False` if not)."
      ]
    },
    {
      "cell_type": "code",
      "metadata": {
        "id": "s66-6HqX5MSh"
      },
      "source": [
        "### returns \"True\" if a dog is detected in the image stored at img_path\r\n",
        "def dog_detector(img_path):\r\n",
        "    prediction = ResNet50_predict_labels(img_path)\r\n",
        "    return ((prediction <= 268) & (prediction >= 151)) "
      ],
      "execution_count": 15,
      "outputs": []
    },
    {
      "cell_type": "markdown",
      "metadata": {
        "id": "vnGqLQVr5OdE"
      },
      "source": [
        "### (IMPLEMENTATION) Assess the Dog Detector\r\n",
        "\r\n",
        "__Question 3:__ Use the code cell below to test the performance of your `dog_detector` function.  \r\n",
        "- What percentage of the images in `human_files_short` have a detected dog?  \r\n",
        "- What percentage of the images in `dog_files_short` have a detected dog?\r\n",
        "\r\n",
        "__Answer:__ \r\n",
        "- 2% of the first 100 images in human_files_short have a detected dog\r\n",
        "- 100% of the first 100 images in dog_files_short have a detected dog."
      ]
    },
    {
      "cell_type": "code",
      "metadata": {
        "id": "8mpNbUfY5REA",
        "colab": {
          "base_uri": "https://localhost:8080/"
        },
        "outputId": "9a93d944-e08e-486f-8bb5-0045420b5763"
      },
      "source": [
        "### TODO: Test the performance of the dog_detector function\r\n",
        "### on the images in human_files_short and dog_files_short.\r\n",
        "\r\n",
        "humans = 0\r\n",
        "dogs = 0\r\n",
        "\r\n",
        "for h in human_files_short:\r\n",
        "  if dog_detector(h)==True:\r\n",
        "    humans += 1\r\n",
        "\r\n",
        "for d in dog_files_short:\r\n",
        "  if dog_detector(d)==True:\r\n",
        "    dogs += 1\r\n",
        "\r\n",
        "print(\"{}% of the first 100 images in human_files_short have a detected dog\".format(humans))\r\n",
        "print(\"{}% of the first 100 images in dog_files_short have a detected dog.\".format(dogs))"
      ],
      "execution_count": 16,
      "outputs": [
        {
          "output_type": "stream",
          "text": [
            "WARNING:tensorflow:From /tensorflow-1.15.2/python3.6/keras/backend/tensorflow_backend.py:422: The name tf.global_variables is deprecated. Please use tf.compat.v1.global_variables instead.\n",
            "\n",
            "2% of the first 100 images in human_files_short have a detected dog\n",
            "100% of the first 100 images in dog_files_short have a detected dog.\n"
          ],
          "name": "stdout"
        }
      ]
    },
    {
      "cell_type": "markdown",
      "metadata": {
        "id": "QpYgexMz5UZ9"
      },
      "source": [
        "---\r\n",
        "<a id='step3'></a>\r\n",
        "## Step 3: Create a CNN to Classify Dog Breeds (from Scratch)\r\n",
        "\r\n",
        "Now that we have functions for detecting humans and dogs in images, we need a way to predict breed from images.  In this step, you will create a CNN that classifies dog breeds.  You must create your CNN _from scratch_ (so, you can't use transfer learning _yet_!), and you must attain a test accuracy of at least 1%.  In Step 5 of this notebook, you will have the opportunity to use transfer learning to create a CNN that attains greatly improved accuracy.\r\n",
        "\r\n",
        "Be careful with adding too many trainable layers!  More parameters means longer training, which means you are more likely to need a GPU to accelerate the training process.  Thankfully, Keras provides a handy estimate of the time that each epoch is likely to take; you can extrapolate this estimate to figure out how long it will take for your algorithm to train. \r\n",
        "\r\n",
        "We mention that the task of assigning breed to dogs from images is considered exceptionally challenging.  To see why, consider that *even a human* would have great difficulty in distinguishing between a Brittany and a Welsh Springer Spaniel.  \r\n",
        "\r\n",
        "Brittany | Welsh Springer Spaniel\r\n",
        "- | - \r\n",
        "<img src=\"images/Brittany_02625.jpg\" width=\"100\"> | <img src=\"images/Welsh_springer_spaniel_08203.jpg\" width=\"200\">\r\n",
        "\r\n",
        "It is not difficult to find other dog breed pairs with minimal inter-class variation (for instance, Curly-Coated Retrievers and American Water Spaniels).  \r\n",
        "\r\n",
        "Curly-Coated Retriever | American Water Spaniel\r\n",
        "- | -\r\n",
        "<img src=\"images/Curly-coated_retriever_03896.jpg\" width=\"200\"> | <img src=\"images/American_water_spaniel_00648.jpg\" width=\"200\">\r\n",
        "\r\n",
        "\r\n",
        "Likewise, recall that labradors come in yellow, chocolate, and black.  Your vision-based algorithm will have to conquer this high intra-class variation to determine how to classify all of these different shades as the same breed.  \r\n",
        "\r\n",
        "Yellow Labrador | Chocolate Labrador | Black Labrador\r\n",
        "- | -\r\n",
        "<img src=\"images/Labrador_retriever_06457.jpg\" width=\"150\"> | <img src=\"images/Labrador_retriever_06455.jpg\" width=\"240\"> | <img src=\"images/Labrador_retriever_06449.jpg\" width=\"220\">\r\n",
        "\r\n",
        "We also mention that random chance presents an exceptionally low bar: setting aside the fact that the classes are slightly imabalanced, a random guess will provide a correct answer roughly 1 in 133 times, which corresponds to an accuracy of less than 1%.  \r\n",
        "\r\n",
        "Remember that the practice is far ahead of the theory in deep learning.  Experiment with many different architectures, and trust your intuition.  And, of course, have fun! \r\n",
        "\r\n",
        "### Pre-process the Data\r\n",
        "\r\n",
        "We rescale the images by dividing every pixel in every image by 255."
      ]
    },
    {
      "cell_type": "code",
      "metadata": {
        "id": "0ernsSr85WRw",
        "colab": {
          "base_uri": "https://localhost:8080/"
        },
        "outputId": "d640a7a1-dc3f-464f-ea28-7bfc09c3c988"
      },
      "source": [
        "from PIL import ImageFile                            \r\n",
        "ImageFile.LOAD_TRUNCATED_IMAGES = True                 \r\n",
        "\r\n",
        "# pre-process the data for Keras\r\n",
        "train_tensors = paths_to_tensor(train_files).astype('float32')/255\r\n",
        "valid_tensors = paths_to_tensor(valid_files).astype('float32')/255\r\n",
        "test_tensors = paths_to_tensor(test_files).astype('float32')/255"
      ],
      "execution_count": 17,
      "outputs": [
        {
          "output_type": "stream",
          "text": [
            "100%|██████████| 6680/6680 [00:56<00:00, 118.01it/s]\n",
            "100%|██████████| 835/835 [00:06<00:00, 130.98it/s]\n",
            "100%|██████████| 836/836 [00:06<00:00, 132.19it/s]\n"
          ],
          "name": "stderr"
        }
      ]
    },
    {
      "cell_type": "markdown",
      "metadata": {
        "id": "Ok68SlYY5Ys0"
      },
      "source": [
        "### (IMPLEMENTATION) Model Architecture\r\n",
        "\r\n",
        "Create a CNN to classify dog breed.  At the end of your code cell block, summarize the layers of your model by executing the line:\r\n",
        "    \r\n",
        "        model.summary()\r\n",
        "\r\n",
        "We have imported some Python modules to get you started, but feel free to import as many modules as you need.  If you end up getting stuck, here's a hint that specifies a model that trains relatively fast on CPU and attains >1% test accuracy in 5 epochs:\r\n",
        "\r\n",
        "![Sample CNN](images/sample_cnn.png)\r\n",
        "           \r\n",
        "__Question 4:__ Outline the steps you took to get to your final CNN architecture and your reasoning at each step.  If you chose to use the hinted architecture above, describe why you think that CNN architecture should work well for the image classification task.\r\n",
        "\r\n",
        "__Answer:__ \r\n",
        "\r\n",
        "I used the architecture mentioned below:\r\n",
        "_________________________________________________________________\r\n",
        "Layer (type)                 Output Shape              Param #   \r\n",
        "_________________________________________________________________\r\n",
        "conv2d_1 (Conv2D)            (None, 224, 224, 256)     3328      \r\n",
        "_________________________________________________________________\r\n",
        "batch_normalization_1 (Batch (None, 224, 224, 256)     1024      \r\n",
        "_________________________________________________________________\r\n",
        "dropout_1 (Dropout)          (None, 224, 224, 256)     0         \r\n",
        "_________________________________________________________________\r\n",
        "max_pooling2d_2 (MaxPooling2 (None, 112, 112, 256)     0         \r\n",
        "_________________________________________________________________\r\n",
        "conv2d_2 (Conv2D)            (None, 112, 112, 128)     131200    \r\n",
        "_________________________________________________________________\r\n",
        "batch_normalization_2 (Batch (None, 112, 112, 128)     512       \r\n",
        "_________________________________________________________________\r\n",
        "dropout_2 (Dropout)          (None, 112, 112, 128)     0         \r\n",
        "_________________________________________________________________\r\n",
        "max_pooling2d_3 (MaxPooling2 (None, 56, 56, 128)       0         \r\n",
        "_________________________________________________________________\r\n",
        "conv2d_3 (Conv2D)            (None, 56, 56, 64)        32832     \r\n",
        "_________________________________________________________________\r\n",
        "batch_normalization_3 (Batch (None, 56, 56, 64)        256       \r\n",
        "_________________________________________________________________\r\n",
        "dropout_3 (Dropout)          (None, 56, 56, 64)        0         \r\n",
        "_________________________________________________________________\r\n",
        "max_pooling2d_4 (MaxPooling2 (None, 28, 28, 64)        0         \r\n",
        "_________________________________________________________________\r\n",
        "conv2d_4 (Conv2D)            (None, 28, 28, 128)       32896     \r\n",
        "_________________________________________________________________\r\n",
        "batch_normalization_4 (Batch (None, 28, 28, 128)       512       \r\n",
        "_________________________________________________________________\r\n",
        "dropout_4 (Dropout)          (None, 28, 28, 128)       0         \r\n",
        "_________________________________________________________________\r\n",
        "max_pooling2d_5 (MaxPooling2 (None, 14, 14, 128)       0         \r\n",
        "_________________________________________________________________\r\n",
        "conv2d_5 (Conv2D)            (None, 14, 14, 256)       131328    \r\n",
        "_________________________________________________________________\r\n",
        "batch_normalization_5 (Batch (None, 14, 14, 256)       1024      \r\n",
        "_________________________________________________________________\r\n",
        "dropout_5 (Dropout)          (None, 14, 14, 256)       0         \r\n",
        "_________________________________________________________________\r\n",
        "max_pooling2d_6 (MaxPooling2 (None, 7, 7, 256)         0         \r\n",
        "_________________________________________________________________\r\n",
        "conv2d_6 (Conv2D)            (None, 7, 7, 128)         131200    \r\n",
        "_________________________________________________________________\r\n",
        "batch_normalization_6 (Batch (None, 7, 7, 128)         512       \r\n",
        "_________________________________________________________________\r\n",
        "dropout_6 (Dropout)          (None, 7, 7, 128)         0         \r\n",
        "_________________________________________________________________\r\n",
        "max_pooling2d_7 (MaxPooling2 (None, 3, 3, 128)         0         \r\n",
        "_________________________________________________________________\r\n",
        "global_average_pooling2d_1 ( (None, 128)               0         \r\n",
        "_________________________________________________________________\r\n",
        "dense_1 (Dense)              (None, 133)               17157     \r\n",
        "_________________________________________________________________\r\n",
        "Total params: 483,781\r\n",
        "Trainable params: 481,861\r\n",
        "Non-trainable params: 1,920\r\n",
        "_________________________________________________________________\r\n",
        "\r\n",
        "this architecture gives ~10% accuracy on 5 epochs"
      ]
    },
    {
      "cell_type": "code",
      "metadata": {
        "id": "gj7JBd8U5asP",
        "colab": {
          "base_uri": "https://localhost:8080/"
        },
        "outputId": "b58773a6-f70a-44a0-83c3-ab69474ce6ca"
      },
      "source": [
        "from keras.layers import Conv2D, MaxPooling2D, GlobalAveragePooling2D\r\n",
        "from keras.layers import Dropout, Flatten, Dense, BatchNormalization\r\n",
        "from keras.models import Sequential\r\n",
        "\r\n",
        "model = Sequential()\r\n",
        "\r\n",
        "### TODO: Define your architecture.\r\n",
        "\r\n",
        "model.add(Conv2D(filters=256,kernel_size=2,padding=\"same\",activation=\"relu\",input_shape=(224,224,3)))\r\n",
        "model.add(BatchNormalization())\r\n",
        "model.add(Dropout(0.1))\r\n",
        "model.add(MaxPooling2D(pool_size=2,padding=\"valid\"))\r\n",
        "model.add(Conv2D(filters=128,kernel_size=2,padding=\"same\",activation=\"relu\"))\r\n",
        "model.add(BatchNormalization())\r\n",
        "model.add(Dropout(0.1))\r\n",
        "model.add(MaxPooling2D(pool_size=2,padding=\"valid\"))\r\n",
        "model.add(Conv2D(filters=64,kernel_size=2,padding=\"same\",activation=\"relu\"))\r\n",
        "model.add(BatchNormalization())\r\n",
        "model.add(Dropout(0.3))\r\n",
        "model.add(MaxPooling2D(pool_size=2,padding=\"valid\"))\r\n",
        "model.add(Conv2D(filters=128,kernel_size=2,padding=\"same\",activation=\"relu\"))\r\n",
        "model.add(BatchNormalization())\r\n",
        "model.add(Dropout(0.1))\r\n",
        "model.add(MaxPooling2D(pool_size=2,padding=\"valid\"))\r\n",
        "model.add(Conv2D(filters=256,kernel_size=2,padding=\"same\",activation=\"relu\"))\r\n",
        "model.add(BatchNormalization())\r\n",
        "model.add(Dropout(0.2))\r\n",
        "model.add(MaxPooling2D(pool_size=2,padding=\"valid\"))\r\n",
        "model.add(Conv2D(filters=128,kernel_size=2,padding=\"same\",activation=\"relu\"))\r\n",
        "model.add(BatchNormalization())\r\n",
        "model.add(Dropout(0.3))\r\n",
        "model.add(MaxPooling2D(pool_size=2,padding=\"valid\"))\r\n",
        "model.add(GlobalAveragePooling2D())\r\n",
        "model.add(Dense(133,activation=\"softmax\"))\r\n",
        "\r\n",
        "model.summary()"
      ],
      "execution_count": 18,
      "outputs": [
        {
          "output_type": "stream",
          "text": [
            "Model: \"sequential_1\"\n",
            "_________________________________________________________________\n",
            "Layer (type)                 Output Shape              Param #   \n",
            "=================================================================\n",
            "conv2d_1 (Conv2D)            (None, 224, 224, 256)     3328      \n",
            "_________________________________________________________________\n",
            "batch_normalization_1 (Batch (None, 224, 224, 256)     1024      \n",
            "_________________________________________________________________\n",
            "dropout_1 (Dropout)          (None, 224, 224, 256)     0         \n",
            "_________________________________________________________________\n",
            "max_pooling2d_2 (MaxPooling2 (None, 112, 112, 256)     0         \n",
            "_________________________________________________________________\n",
            "conv2d_2 (Conv2D)            (None, 112, 112, 128)     131200    \n",
            "_________________________________________________________________\n",
            "batch_normalization_2 (Batch (None, 112, 112, 128)     512       \n",
            "_________________________________________________________________\n",
            "dropout_2 (Dropout)          (None, 112, 112, 128)     0         \n",
            "_________________________________________________________________\n",
            "max_pooling2d_3 (MaxPooling2 (None, 56, 56, 128)       0         \n",
            "_________________________________________________________________\n",
            "conv2d_3 (Conv2D)            (None, 56, 56, 64)        32832     \n",
            "_________________________________________________________________\n",
            "batch_normalization_3 (Batch (None, 56, 56, 64)        256       \n",
            "_________________________________________________________________\n",
            "dropout_3 (Dropout)          (None, 56, 56, 64)        0         \n",
            "_________________________________________________________________\n",
            "max_pooling2d_4 (MaxPooling2 (None, 28, 28, 64)        0         \n",
            "_________________________________________________________________\n",
            "conv2d_4 (Conv2D)            (None, 28, 28, 128)       32896     \n",
            "_________________________________________________________________\n",
            "batch_normalization_4 (Batch (None, 28, 28, 128)       512       \n",
            "_________________________________________________________________\n",
            "dropout_4 (Dropout)          (None, 28, 28, 128)       0         \n",
            "_________________________________________________________________\n",
            "max_pooling2d_5 (MaxPooling2 (None, 14, 14, 128)       0         \n",
            "_________________________________________________________________\n",
            "conv2d_5 (Conv2D)            (None, 14, 14, 256)       131328    \n",
            "_________________________________________________________________\n",
            "batch_normalization_5 (Batch (None, 14, 14, 256)       1024      \n",
            "_________________________________________________________________\n",
            "dropout_5 (Dropout)          (None, 14, 14, 256)       0         \n",
            "_________________________________________________________________\n",
            "max_pooling2d_6 (MaxPooling2 (None, 7, 7, 256)         0         \n",
            "_________________________________________________________________\n",
            "conv2d_6 (Conv2D)            (None, 7, 7, 128)         131200    \n",
            "_________________________________________________________________\n",
            "batch_normalization_6 (Batch (None, 7, 7, 128)         512       \n",
            "_________________________________________________________________\n",
            "dropout_6 (Dropout)          (None, 7, 7, 128)         0         \n",
            "_________________________________________________________________\n",
            "max_pooling2d_7 (MaxPooling2 (None, 3, 3, 128)         0         \n",
            "_________________________________________________________________\n",
            "global_average_pooling2d_1 ( (None, 128)               0         \n",
            "_________________________________________________________________\n",
            "dense_1 (Dense)              (None, 133)               17157     \n",
            "=================================================================\n",
            "Total params: 483,781\n",
            "Trainable params: 481,861\n",
            "Non-trainable params: 1,920\n",
            "_________________________________________________________________\n"
          ],
          "name": "stdout"
        }
      ]
    },
    {
      "cell_type": "markdown",
      "metadata": {
        "id": "LsG2XrJ_5d4F"
      },
      "source": [
        "### Compile the Model"
      ]
    },
    {
      "cell_type": "code",
      "metadata": {
        "id": "0EGyvYTM5ger"
      },
      "source": [
        "model.compile(optimizer='rmsprop', loss='categorical_crossentropy', metrics=['accuracy'])"
      ],
      "execution_count": 19,
      "outputs": []
    },
    {
      "cell_type": "markdown",
      "metadata": {
        "id": "-hocOqam5h-p"
      },
      "source": [
        "### (IMPLEMENTATION) Train the Model\r\n",
        "\r\n",
        "Train your model in the code cell below.  Use model checkpointing to save the model that attains the best validation loss.\r\n",
        "\r\n",
        "You are welcome to [augment the training data](https://blog.keras.io/building-powerful-image-classification-models-using-very-little-data.html), but this is not a requirement. "
      ]
    },
    {
      "cell_type": "code",
      "metadata": {
        "id": "7DlH-5YG5js1",
        "colab": {
          "base_uri": "https://localhost:8080/"
        },
        "outputId": "61e1f0ab-17b5-4506-d484-5fa560567bce"
      },
      "source": [
        "from keras.callbacks import ModelCheckpoint  \r\n",
        "\r\n",
        "### TODO: specify the number of epochs that you would like to use to train the model.\r\n",
        "\r\n",
        "epochs = 5\r\n",
        "\r\n",
        "### Do NOT modify the code below this line.\r\n",
        "\r\n",
        "checkpointer = ModelCheckpoint(filepath='saved_models/weights.best.from_scratch.hdf5', \r\n",
        "                               verbose=1, save_best_only=True)\r\n",
        "\r\n",
        "model.fit(train_tensors, train_targets, \r\n",
        "          validation_data=(valid_tensors, valid_targets),\r\n",
        "          epochs=epochs, batch_size=20, callbacks=[checkpointer], verbose=1)"
      ],
      "execution_count": 23,
      "outputs": [
        {
          "output_type": "stream",
          "text": [
            "Train on 6680 samples, validate on 835 samples\n",
            "Epoch 1/20\n",
            "6680/6680 [==============================] - 66s 10ms/step - loss: 3.2933 - accuracy: 0.1946 - val_loss: 4.2618 - val_accuracy: 0.0790\n",
            "\n",
            "Epoch 00001: val_loss improved from inf to 4.26180, saving model to saved_models/weights.best.from_scratch.hdf5\n",
            "Epoch 2/20\n",
            "6680/6680 [==============================] - 66s 10ms/step - loss: 3.0279 - accuracy: 0.2445 - val_loss: 3.9003 - val_accuracy: 0.1234\n",
            "\n",
            "Epoch 00002: val_loss improved from 4.26180 to 3.90028, saving model to saved_models/weights.best.from_scratch.hdf5\n",
            "Epoch 3/20\n",
            "6680/6680 [==============================] - 66s 10ms/step - loss: 2.8212 - accuracy: 0.2915 - val_loss: 3.8577 - val_accuracy: 0.1653\n",
            "\n",
            "Epoch 00003: val_loss improved from 3.90028 to 3.85767, saving model to saved_models/weights.best.from_scratch.hdf5\n",
            "Epoch 4/20\n",
            "6680/6680 [==============================] - 66s 10ms/step - loss: 2.5757 - accuracy: 0.3395 - val_loss: 4.2176 - val_accuracy: 0.1234\n",
            "\n",
            "Epoch 00004: val_loss did not improve from 3.85767\n",
            "Epoch 5/20\n",
            "6680/6680 [==============================] - 66s 10ms/step - loss: 2.3897 - accuracy: 0.3765 - val_loss: 3.6255 - val_accuracy: 0.2072\n",
            "\n",
            "Epoch 00005: val_loss improved from 3.85767 to 3.62547, saving model to saved_models/weights.best.from_scratch.hdf5\n",
            "Epoch 6/20\n",
            "6680/6680 [==============================] - 66s 10ms/step - loss: 2.2068 - accuracy: 0.4175 - val_loss: 3.4332 - val_accuracy: 0.2323\n",
            "\n",
            "Epoch 00006: val_loss improved from 3.62547 to 3.43319, saving model to saved_models/weights.best.from_scratch.hdf5\n",
            "Epoch 7/20\n",
            "6680/6680 [==============================] - 66s 10ms/step - loss: 2.0537 - accuracy: 0.4496 - val_loss: 5.4502 - val_accuracy: 0.0994\n",
            "\n",
            "Epoch 00007: val_loss did not improve from 3.43319\n",
            "Epoch 8/20\n",
            "6680/6680 [==============================] - 66s 10ms/step - loss: 1.8954 - accuracy: 0.4891 - val_loss: 3.2200 - val_accuracy: 0.2479\n",
            "\n",
            "Epoch 00008: val_loss improved from 3.43319 to 3.21996, saving model to saved_models/weights.best.from_scratch.hdf5\n",
            "Epoch 9/20\n",
            "6680/6680 [==============================] - 66s 10ms/step - loss: 1.7427 - accuracy: 0.5201 - val_loss: 3.5689 - val_accuracy: 0.2156\n",
            "\n",
            "Epoch 00009: val_loss did not improve from 3.21996\n",
            "Epoch 10/20\n",
            "6680/6680 [==============================] - 66s 10ms/step - loss: 1.6302 - accuracy: 0.5501 - val_loss: 3.2882 - val_accuracy: 0.2695\n",
            "\n",
            "Epoch 00010: val_loss did not improve from 3.21996\n",
            "Epoch 11/20\n",
            "6680/6680 [==============================] - 66s 10ms/step - loss: 1.5058 - accuracy: 0.5747 - val_loss: 3.2171 - val_accuracy: 0.2743\n",
            "\n",
            "Epoch 00011: val_loss improved from 3.21996 to 3.21712, saving model to saved_models/weights.best.from_scratch.hdf5\n",
            "Epoch 12/20\n",
            "6680/6680 [==============================] - 66s 10ms/step - loss: 1.3796 - accuracy: 0.6085 - val_loss: 3.5210 - val_accuracy: 0.2335\n",
            "\n",
            "Epoch 00012: val_loss did not improve from 3.21712\n",
            "Epoch 13/20\n",
            "6680/6680 [==============================] - 66s 10ms/step - loss: 1.2670 - accuracy: 0.6391 - val_loss: 3.4778 - val_accuracy: 0.2359\n",
            "\n",
            "Epoch 00013: val_loss did not improve from 3.21712\n",
            "Epoch 14/20\n",
            "6680/6680 [==============================] - 66s 10ms/step - loss: 1.1716 - accuracy: 0.6629 - val_loss: 3.5742 - val_accuracy: 0.2575\n",
            "\n",
            "Epoch 00014: val_loss did not improve from 3.21712\n",
            "Epoch 15/20\n",
            "6680/6680 [==============================] - 66s 10ms/step - loss: 1.0940 - accuracy: 0.6822 - val_loss: 3.6297 - val_accuracy: 0.2647\n",
            "\n",
            "Epoch 00015: val_loss did not improve from 3.21712\n",
            "Epoch 16/20\n",
            "6680/6680 [==============================] - 66s 10ms/step - loss: 1.0282 - accuracy: 0.6949 - val_loss: 4.4186 - val_accuracy: 0.1844\n",
            "\n",
            "Epoch 00016: val_loss did not improve from 3.21712\n",
            "Epoch 17/20\n",
            "6680/6680 [==============================] - 66s 10ms/step - loss: 0.9516 - accuracy: 0.7271 - val_loss: 3.6817 - val_accuracy: 0.2766\n",
            "\n",
            "Epoch 00017: val_loss did not improve from 3.21712\n",
            "Epoch 18/20\n",
            "6680/6680 [==============================] - 66s 10ms/step - loss: 0.8988 - accuracy: 0.7310 - val_loss: 3.7393 - val_accuracy: 0.2766\n",
            "\n",
            "Epoch 00018: val_loss did not improve from 3.21712\n",
            "Epoch 19/20\n",
            "6680/6680 [==============================] - 66s 10ms/step - loss: 0.8192 - accuracy: 0.7540 - val_loss: 4.1188 - val_accuracy: 0.2539\n",
            "\n",
            "Epoch 00019: val_loss did not improve from 3.21712\n",
            "Epoch 20/20\n",
            "6680/6680 [==============================] - 66s 10ms/step - loss: 0.7962 - accuracy: 0.7615 - val_loss: 4.4081 - val_accuracy: 0.2096\n",
            "\n",
            "Epoch 00020: val_loss did not improve from 3.21712\n"
          ],
          "name": "stdout"
        },
        {
          "output_type": "execute_result",
          "data": {
            "text/plain": [
              "<keras.callbacks.callbacks.History at 0x7f36a047fb38>"
            ]
          },
          "metadata": {
            "tags": []
          },
          "execution_count": 23
        }
      ]
    },
    {
      "cell_type": "markdown",
      "metadata": {
        "id": "OiiPf1Tg5lS7"
      },
      "source": [
        "### Load the Model with the Best Validation Loss"
      ]
    },
    {
      "cell_type": "code",
      "metadata": {
        "id": "RSEUSSZ05naS"
      },
      "source": [
        "model.load_weights('saved_models/weights.best.from_scratch.hdf5')"
      ],
      "execution_count": 24,
      "outputs": []
    },
    {
      "cell_type": "markdown",
      "metadata": {
        "id": "yJ4KJUgZ5pML"
      },
      "source": [
        "### Test the Model\r\n",
        "\r\n",
        "Try out your model on the test dataset of dog images.  Ensure that your test accuracy is greater than 1%."
      ]
    },
    {
      "cell_type": "code",
      "metadata": {
        "id": "mKo1kbGL5qga",
        "colab": {
          "base_uri": "https://localhost:8080/"
        },
        "outputId": "5683ee53-f103-48ba-ed41-b751beabe97f"
      },
      "source": [
        "# get index of predicted dog breed for each image in test set\r\n",
        "dog_breed_predictions = [np.argmax(model.predict(np.expand_dims(tensor, axis=0))) for tensor in test_tensors]\r\n",
        "\r\n",
        "# report test accuracy\r\n",
        "test_accuracy = 100*np.sum(np.array(dog_breed_predictions)==np.argmax(test_targets, axis=1))/len(dog_breed_predictions)\r\n",
        "print('Test accuracy: %.4f%%' % test_accuracy)"
      ],
      "execution_count": 25,
      "outputs": [
        {
          "output_type": "stream",
          "text": [
            "Test accuracy: 27.6316%\n"
          ],
          "name": "stdout"
        }
      ]
    },
    {
      "cell_type": "markdown",
      "metadata": {
        "id": "eFkB9lWK5tBr"
      },
      "source": [
        "---\r\n",
        "<a id='step4'></a>\r\n",
        "## Step 4: Use a CNN to Classify Dog Breeds\r\n",
        "\r\n",
        "To reduce training time without sacrificing accuracy, we show you how to train a CNN using transfer learning.  In the following step, you will get a chance to use transfer learning to train your own CNN.\r\n",
        "\r\n",
        "### Obtain Bottleneck Features"
      ]
    },
    {
      "cell_type": "code",
      "metadata": {
        "id": "GicUfsqvFbna",
        "colab": {
          "base_uri": "https://localhost:8080/"
        },
        "outputId": "7618c1a7-235e-4709-9fba-23fd9881e793"
      },
      "source": [
        "!wget https://s3-us-west-1.amazonaws.com/udacity-aind/dog-project/DogVGG16Data.npz\r\n",
        "!mv DogVGG16Data.npz bottleneck_features/ \r\n",
        "print(\"Bottleneck Features are ready to use\")"
      ],
      "execution_count": 26,
      "outputs": [
        {
          "output_type": "stream",
          "text": [
            "--2021-01-12 11:21:50--  https://s3-us-west-1.amazonaws.com/udacity-aind/dog-project/DogVGG16Data.npz\n",
            "Resolving s3-us-west-1.amazonaws.com (s3-us-west-1.amazonaws.com)... 52.219.120.48\n",
            "Connecting to s3-us-west-1.amazonaws.com (s3-us-west-1.amazonaws.com)|52.219.120.48|:443... connected.\n",
            "HTTP request sent, awaiting response... 200 OK\n",
            "Length: 850230376 (811M) [application/x-www-form-urlencoded]\n",
            "Saving to: ‘DogVGG16Data.npz’\n",
            "\n",
            "DogVGG16Data.npz    100%[===================>] 810.84M  38.0MB/s    in 22s     \n",
            "\n",
            "2021-01-12 11:22:13 (36.5 MB/s) - ‘DogVGG16Data.npz’ saved [850230376/850230376]\n",
            "\n",
            "Bottleneck Features are ready to use\n"
          ],
          "name": "stdout"
        }
      ]
    },
    {
      "cell_type": "code",
      "metadata": {
        "id": "pHKijzUD5uyK"
      },
      "source": [
        "bottleneck_features = np.load('bottleneck_features/DogVGG16Data.npz')\r\n",
        "train_VGG16 = bottleneck_features['train']\r\n",
        "valid_VGG16 = bottleneck_features['valid']\r\n",
        "test_VGG16 = bottleneck_features['test']"
      ],
      "execution_count": 27,
      "outputs": []
    },
    {
      "cell_type": "markdown",
      "metadata": {
        "id": "PtFpV43v5w-7"
      },
      "source": [
        "### Model Architecture\r\n",
        "\r\n",
        "The model uses the the pre-trained VGG-16 model as a fixed feature extractor, where the last convolutional output of VGG-16 is fed as input to our model.  We only add a global average pooling layer and a fully connected layer, where the latter contains one node for each dog category and is equipped with a softmax."
      ]
    },
    {
      "cell_type": "code",
      "metadata": {
        "id": "cFe_dhSu5yT1",
        "colab": {
          "base_uri": "https://localhost:8080/"
        },
        "outputId": "b1ff53be-21f8-4490-992c-cbc27db1edaa"
      },
      "source": [
        "VGG16_model = Sequential()\r\n",
        "VGG16_model.add(GlobalAveragePooling2D(input_shape=train_VGG16.shape[1:]))\r\n",
        "VGG16_model.add(Dense(133, activation='softmax'))\r\n",
        "\r\n",
        "VGG16_model.summary()"
      ],
      "execution_count": 28,
      "outputs": [
        {
          "output_type": "stream",
          "text": [
            "Model: \"sequential_2\"\n",
            "_________________________________________________________________\n",
            "Layer (type)                 Output Shape              Param #   \n",
            "=================================================================\n",
            "global_average_pooling2d_2 ( (None, 512)               0         \n",
            "_________________________________________________________________\n",
            "dense_2 (Dense)              (None, 133)               68229     \n",
            "=================================================================\n",
            "Total params: 68,229\n",
            "Trainable params: 68,229\n",
            "Non-trainable params: 0\n",
            "_________________________________________________________________\n"
          ],
          "name": "stdout"
        }
      ]
    },
    {
      "cell_type": "markdown",
      "metadata": {
        "id": "TkyWbrYi51RT"
      },
      "source": [
        "### Compile the Model"
      ]
    },
    {
      "cell_type": "code",
      "metadata": {
        "id": "sBav7Mu1517P"
      },
      "source": [
        "VGG16_model.compile(loss='categorical_crossentropy', optimizer='rmsprop', metrics=['accuracy'])"
      ],
      "execution_count": 29,
      "outputs": []
    },
    {
      "cell_type": "markdown",
      "metadata": {
        "id": "Kl1A5XkY54Bb"
      },
      "source": [
        "### Train the Model"
      ]
    },
    {
      "cell_type": "code",
      "metadata": {
        "id": "cXcvPYgg56Zv",
        "colab": {
          "base_uri": "https://localhost:8080/"
        },
        "outputId": "e7bcd903-7db9-4087-94e1-da546fef5bbe"
      },
      "source": [
        "checkpointer = ModelCheckpoint(filepath='saved_models/weights.best.VGG16.hdf5', \r\n",
        "                               verbose=1, save_best_only=True)\r\n",
        "\r\n",
        "VGG16_model.fit(train_VGG16, train_targets, \r\n",
        "          validation_data=(valid_VGG16, valid_targets),\r\n",
        "          epochs=20, batch_size=20, callbacks=[checkpointer], verbose=1)"
      ],
      "execution_count": 30,
      "outputs": [
        {
          "output_type": "stream",
          "text": [
            "Train on 6680 samples, validate on 835 samples\n",
            "Epoch 1/20\n",
            "6680/6680 [==============================] - 2s 264us/step - loss: 8.0971 - accuracy: 0.2298 - val_loss: 3.8542 - val_accuracy: 0.4204\n",
            "\n",
            "Epoch 00001: val_loss improved from inf to 3.85422, saving model to saved_models/weights.best.VGG16.hdf5\n",
            "Epoch 2/20\n",
            "6680/6680 [==============================] - 1s 209us/step - loss: 2.2089 - accuracy: 0.5985 - val_loss: 2.6826 - val_accuracy: 0.5713\n",
            "\n",
            "Epoch 00002: val_loss improved from 3.85422 to 2.68257, saving model to saved_models/weights.best.VGG16.hdf5\n",
            "Epoch 3/20\n",
            "6680/6680 [==============================] - 1s 212us/step - loss: 1.2650 - accuracy: 0.7361 - val_loss: 2.1402 - val_accuracy: 0.6228\n",
            "\n",
            "Epoch 00003: val_loss improved from 2.68257 to 2.14022, saving model to saved_models/weights.best.VGG16.hdf5\n",
            "Epoch 4/20\n",
            "6680/6680 [==============================] - 1s 212us/step - loss: 0.8163 - accuracy: 0.8123 - val_loss: 2.0330 - val_accuracy: 0.6491\n",
            "\n",
            "Epoch 00004: val_loss improved from 2.14022 to 2.03296, saving model to saved_models/weights.best.VGG16.hdf5\n",
            "Epoch 5/20\n",
            "6680/6680 [==============================] - 1s 207us/step - loss: 0.5709 - accuracy: 0.8591 - val_loss: 2.0534 - val_accuracy: 0.6850\n",
            "\n",
            "Epoch 00005: val_loss did not improve from 2.03296\n",
            "Epoch 6/20\n",
            "6680/6680 [==============================] - 1s 207us/step - loss: 0.4197 - accuracy: 0.8940 - val_loss: 1.8722 - val_accuracy: 0.6898\n",
            "\n",
            "Epoch 00006: val_loss improved from 2.03296 to 1.87215, saving model to saved_models/weights.best.VGG16.hdf5\n",
            "Epoch 7/20\n",
            "6680/6680 [==============================] - 1s 211us/step - loss: 0.3087 - accuracy: 0.9130 - val_loss: 1.8042 - val_accuracy: 0.7210\n",
            "\n",
            "Epoch 00007: val_loss improved from 1.87215 to 1.80424, saving model to saved_models/weights.best.VGG16.hdf5\n",
            "Epoch 8/20\n",
            "6680/6680 [==============================] - 1s 210us/step - loss: 0.2246 - accuracy: 0.9374 - val_loss: 1.8809 - val_accuracy: 0.7210\n",
            "\n",
            "Epoch 00008: val_loss did not improve from 1.80424\n",
            "Epoch 9/20\n",
            "6680/6680 [==============================] - 1s 208us/step - loss: 0.1687 - accuracy: 0.9488 - val_loss: 1.8801 - val_accuracy: 0.7186\n",
            "\n",
            "Epoch 00009: val_loss did not improve from 1.80424\n",
            "Epoch 10/20\n",
            "6680/6680 [==============================] - 1s 211us/step - loss: 0.1318 - accuracy: 0.9602 - val_loss: 1.8943 - val_accuracy: 0.7246\n",
            "\n",
            "Epoch 00010: val_loss did not improve from 1.80424\n",
            "Epoch 11/20\n",
            "6680/6680 [==============================] - 1s 212us/step - loss: 0.1006 - accuracy: 0.9677 - val_loss: 1.9014 - val_accuracy: 0.7269\n",
            "\n",
            "Epoch 00011: val_loss did not improve from 1.80424\n",
            "Epoch 12/20\n",
            "6680/6680 [==============================] - 1s 209us/step - loss: 0.0768 - accuracy: 0.9769 - val_loss: 1.8904 - val_accuracy: 0.7473\n",
            "\n",
            "Epoch 00012: val_loss did not improve from 1.80424\n",
            "Epoch 13/20\n",
            "6680/6680 [==============================] - 1s 207us/step - loss: 0.0609 - accuracy: 0.9792 - val_loss: 2.1544 - val_accuracy: 0.7114\n",
            "\n",
            "Epoch 00013: val_loss did not improve from 1.80424\n",
            "Epoch 14/20\n",
            "6680/6680 [==============================] - 1s 211us/step - loss: 0.0595 - accuracy: 0.9823 - val_loss: 2.0330 - val_accuracy: 0.7341\n",
            "\n",
            "Epoch 00014: val_loss did not improve from 1.80424\n",
            "Epoch 15/20\n",
            "6680/6680 [==============================] - 1s 208us/step - loss: 0.0425 - accuracy: 0.9877 - val_loss: 2.1366 - val_accuracy: 0.7425\n",
            "\n",
            "Epoch 00015: val_loss did not improve from 1.80424\n",
            "Epoch 16/20\n",
            "6680/6680 [==============================] - 1s 212us/step - loss: 0.0356 - accuracy: 0.9894 - val_loss: 2.0039 - val_accuracy: 0.7377\n",
            "\n",
            "Epoch 00016: val_loss did not improve from 1.80424\n",
            "Epoch 17/20\n",
            "6680/6680 [==============================] - 1s 207us/step - loss: 0.0337 - accuracy: 0.9897 - val_loss: 2.1660 - val_accuracy: 0.7281\n",
            "\n",
            "Epoch 00017: val_loss did not improve from 1.80424\n",
            "Epoch 18/20\n",
            "6680/6680 [==============================] - 1s 205us/step - loss: 0.0288 - accuracy: 0.9919 - val_loss: 2.1582 - val_accuracy: 0.7437\n",
            "\n",
            "Epoch 00018: val_loss did not improve from 1.80424\n",
            "Epoch 19/20\n",
            "6680/6680 [==============================] - 1s 213us/step - loss: 0.0234 - accuracy: 0.9925 - val_loss: 2.3223 - val_accuracy: 0.7246\n",
            "\n",
            "Epoch 00019: val_loss did not improve from 1.80424\n",
            "Epoch 20/20\n",
            "6680/6680 [==============================] - 1s 208us/step - loss: 0.0201 - accuracy: 0.9952 - val_loss: 2.1806 - val_accuracy: 0.7293\n",
            "\n",
            "Epoch 00020: val_loss did not improve from 1.80424\n"
          ],
          "name": "stdout"
        },
        {
          "output_type": "execute_result",
          "data": {
            "text/plain": [
              "<keras.callbacks.callbacks.History at 0x7f36a042acc0>"
            ]
          },
          "metadata": {
            "tags": []
          },
          "execution_count": 30
        }
      ]
    },
    {
      "cell_type": "markdown",
      "metadata": {
        "id": "viJTXlcP57-4"
      },
      "source": [
        "### Load the Model with the Best Validation Loss"
      ]
    },
    {
      "cell_type": "code",
      "metadata": {
        "id": "wnQUDLfE59eJ"
      },
      "source": [
        "VGG16_model.load_weights('saved_models/weights.best.VGG16.hdf5')"
      ],
      "execution_count": 31,
      "outputs": []
    },
    {
      "cell_type": "markdown",
      "metadata": {
        "id": "xIRwJAJl5_c1"
      },
      "source": [
        "### Test the Model\r\n",
        "\r\n",
        "Now, we can use the CNN to test how well it identifies breed within our test dataset of dog images.  We print the test accuracy below."
      ]
    },
    {
      "cell_type": "code",
      "metadata": {
        "id": "Jus15U-96Aw8",
        "colab": {
          "base_uri": "https://localhost:8080/"
        },
        "outputId": "68e2872c-dad4-4730-ae12-6509fbf60b0c"
      },
      "source": [
        "# get index of predicted dog breed for each image in test set\r\n",
        "VGG16_predictions = [np.argmax(VGG16_model.predict(np.expand_dims(feature, axis=0))) for feature in test_VGG16]\r\n",
        "\r\n",
        "# report test accuracy\r\n",
        "test_accuracy = 100*np.sum(np.array(VGG16_predictions)==np.argmax(test_targets, axis=1))/len(VGG16_predictions)\r\n",
        "print('Test accuracy: %.4f%%' % test_accuracy)"
      ],
      "execution_count": 32,
      "outputs": [
        {
          "output_type": "stream",
          "text": [
            "Test accuracy: 70.4545%\n"
          ],
          "name": "stdout"
        }
      ]
    },
    {
      "cell_type": "markdown",
      "metadata": {
        "id": "TAvV3Epy6BrK"
      },
      "source": [
        "### Predict Dog Breed with the Model"
      ]
    },
    {
      "cell_type": "code",
      "metadata": {
        "id": "v0TohmkC6D-t"
      },
      "source": [
        "from extract_bottleneck_features import *\r\n",
        "\r\n",
        "def VGG16_predict_breed(img_path):\r\n",
        "    # extract bottleneck features\r\n",
        "    bottleneck_feature = extract_VGG16(path_to_tensor(img_path))\r\n",
        "    # obtain predicted vector\r\n",
        "    predicted_vector = VGG16_model.predict(bottleneck_feature)\r\n",
        "    # return dog breed that is predicted by the model\r\n",
        "    return dog_names[np.argmax(predicted_vector)]"
      ],
      "execution_count": 33,
      "outputs": []
    },
    {
      "cell_type": "markdown",
      "metadata": {
        "id": "j_cLtSzO6Gr9"
      },
      "source": [
        "---\r\n",
        "<a id='step5'></a>\r\n",
        "## Step 5: Create a CNN to Classify Dog Breeds (using Transfer Learning)\r\n",
        "\r\n",
        "You will now use transfer learning to create a CNN that can identify dog breed from images.  Your CNN must attain at least 60% accuracy on the test set.\r\n",
        "\r\n",
        "In Step 4, we used transfer learning to create a CNN using VGG-16 bottleneck features.  In this section, you must use the bottleneck features from a different pre-trained model.  To make things easier for you, we have pre-computed the features for all of the networks that are currently available in Keras:\r\n",
        "- [VGG-19](https://s3-us-west-1.amazonaws.com/udacity-aind/dog-project/DogVGG19Data.npz) bottleneck features\r\n",
        "- [ResNet-50](https://s3-us-west-1.amazonaws.com/udacity-aind/dog-project/DogResnet50Data.npz) bottleneck features\r\n",
        "- [Inception](https://s3-us-west-1.amazonaws.com/udacity-aind/dog-project/DogInceptionV3Data.npz) bottleneck features\r\n",
        "- [Xception](https://s3-us-west-1.amazonaws.com/udacity-aind/dog-project/DogXceptionData.npz) bottleneck features\r\n",
        "\r\n",
        "The files are encoded as such:\r\n",
        "\r\n",
        "    Dog{network}Data.npz\r\n",
        "    \r\n",
        "where `{network}`, in the above filename, can be one of `VGG19`, `Resnet50`, `InceptionV3`, or `Xception`.  Pick one of the above architectures, download the corresponding bottleneck features, and store the downloaded file in the `bottleneck_features/` folder in the repository.\r\n",
        "\r\n",
        "### (IMPLEMENTATION) Obtain Bottleneck Features\r\n",
        "\r\n",
        "In the code block below, extract the bottleneck features corresponding to the train, test, and validation sets by running the following:\r\n",
        "\r\n",
        "    bottleneck_features = np.load('bottleneck_features/Dog{network}Data.npz')\r\n",
        "    train_{network} = bottleneck_features['train']\r\n",
        "    valid_{network} = bottleneck_features['valid']\r\n",
        "    test_{network} = bottleneck_features['test']"
      ]
    },
    {
      "cell_type": "code",
      "metadata": {
        "colab": {
          "base_uri": "https://localhost:8080/"
        },
        "id": "WdFdLXs3dh9d",
        "outputId": "5c59355a-ee9c-490a-ea38-31164e532f70"
      },
      "source": [
        "!wget https://s3-us-west-1.amazonaws.com/udacity-aind/dog-project/DogVGG19Data.npz\r\n",
        "!mv DogVGG19Data.npz bottleneck_features/ \r\n",
        "print(\"Bottleneck Features are ready to use\")"
      ],
      "execution_count": 34,
      "outputs": [
        {
          "output_type": "stream",
          "text": [
            "--2021-01-12 11:59:25--  https://s3-us-west-1.amazonaws.com/udacity-aind/dog-project/DogVGG19Data.npz\n",
            "Resolving s3-us-west-1.amazonaws.com (s3-us-west-1.amazonaws.com)... 52.219.112.216\n",
            "Connecting to s3-us-west-1.amazonaws.com (s3-us-west-1.amazonaws.com)|52.219.112.216|:443... connected.\n",
            "HTTP request sent, awaiting response... 200 OK\n",
            "Length: 850230376 (811M) [application/x-www-form-urlencoded]\n",
            "Saving to: ‘DogVGG19Data.npz’\n",
            "\n",
            "DogVGG19Data.npz    100%[===================>] 810.84M  37.5MB/s    in 23s     \n",
            "\n",
            "2021-01-12 11:59:48 (35.5 MB/s) - ‘DogVGG19Data.npz’ saved [850230376/850230376]\n",
            "\n",
            "mv: cannot stat 'DogVGG16Data.npz': No such file or directory\n",
            "Bottleneck Features are ready to use\n"
          ],
          "name": "stdout"
        }
      ]
    },
    {
      "cell_type": "code",
      "metadata": {
        "id": "2wW6tu8X6HMi"
      },
      "source": [
        "### TODO: Obtain bottleneck features from another pre-trained CNN.\r\n",
        "bottleneck_features = np.load(\"bottleneck_features/DogVGG19Data.npz\")\r\n",
        "train_VGG19 = bottleneck_features[\"train\"]\r\n",
        "valid_VGG19 = bottleneck_features[\"valid\"]\r\n",
        "test_VGG19 = bottleneck_features[\"test\"]"
      ],
      "execution_count": 35,
      "outputs": []
    },
    {
      "cell_type": "markdown",
      "metadata": {
        "id": "pnWgD0MB6JTq"
      },
      "source": [
        "### (IMPLEMENTATION) Model Architecture\r\n",
        "\r\n",
        "Create a CNN to classify dog breed.  At the end of your code cell block, summarize the layers of your model by executing the line:\r\n",
        "    \r\n",
        "        <your model's name>.summary()\r\n",
        "   \r\n",
        "__Question 5:__ Outline the steps you took to get to your final CNN architecture and your reasoning at each step.  Describe why you think the architecture is suitable for the current problem.\r\n",
        "\r\n",
        "__Answer:__ \r\n",
        "\r\n"
      ]
    },
    {
      "cell_type": "code",
      "metadata": {
        "id": "olE_srbZ6Ndq",
        "colab": {
          "base_uri": "https://localhost:8080/"
        },
        "outputId": "1e5fbad3-aa93-4776-e6a9-a7112992a943"
      },
      "source": [
        "### TODO: Define your architecture.\r\n",
        "VGG19_model = Sequential()\r\n",
        "\r\n",
        "VGG19_model.add(GlobalAveragePooling2D(input_shape=train_VGG19.shape[1:]))\r\n",
        "VGG19_model.add(Dense(133,activation=\"softmax\"))\r\n",
        "\r\n",
        "VGG19_model.summary()"
      ],
      "execution_count": 78,
      "outputs": [
        {
          "output_type": "stream",
          "text": [
            "Model: \"sequential_12\"\n",
            "_________________________________________________________________\n",
            "Layer (type)                 Output Shape              Param #   \n",
            "=================================================================\n",
            "global_average_pooling2d_12  (None, 512)               0         \n",
            "_________________________________________________________________\n",
            "dense_10 (Dense)             (None, 133)               68229     \n",
            "=================================================================\n",
            "Total params: 68,229\n",
            "Trainable params: 68,229\n",
            "Non-trainable params: 0\n",
            "_________________________________________________________________\n"
          ],
          "name": "stdout"
        }
      ]
    },
    {
      "cell_type": "markdown",
      "metadata": {
        "id": "IoPmj7lo6QHK"
      },
      "source": [
        "### (IMPLEMENTATION) Compile the Model"
      ]
    },
    {
      "cell_type": "code",
      "metadata": {
        "id": "xqY-Dakh6OoT"
      },
      "source": [
        "### TODO: Compile the model.\r\n",
        "VGG19_model.compile(loss=\"categorical_crossentropy\",optimizer=\"rmsprop\",metrics=[\"accuracy\"])"
      ],
      "execution_count": 91,
      "outputs": []
    },
    {
      "cell_type": "markdown",
      "metadata": {
        "id": "TEwiU9696Ups"
      },
      "source": [
        "### (IMPLEMENTATION) Train the Model\r\n",
        "\r\n",
        "Train your model in the code cell below.  Use model checkpointing to save the model that attains the best validation loss.  \r\n",
        "\r\n",
        "You are welcome to [augment the training data](https://blog.keras.io/building-powerful-image-classification-models-using-very-little-data.html), but this is not a requirement. "
      ]
    },
    {
      "cell_type": "code",
      "metadata": {
        "id": "i3sVtulA6WdY",
        "colab": {
          "base_uri": "https://localhost:8080/"
        },
        "outputId": "b5a9c225-3253-4723-f8d1-e76d5db58679"
      },
      "source": [
        "### TODO: Train the model.\r\n",
        "checkpointer = ModelCheckpoint(filepath=\"saved_models/weights.best.VGG19.hdf5\",verbose=1,save_best_only=True)\r\n",
        "\r\n",
        "VGG19_model.fit(train_VGG19,train_targets,validation_data=(valid_VGG19, valid_targets),epochs=20,batch_size=20,callbacks=[checkpointer],verbose=1)"
      ],
      "execution_count": 92,
      "outputs": [
        {
          "output_type": "stream",
          "text": [
            "Train on 6680 samples, validate on 835 samples\n",
            "Epoch 1/20\n",
            "6680/6680 [==============================] - 2s 262us/step - loss: 0.0458 - accuracy: 0.9867 - val_loss: 1.7504 - val_accuracy: 0.7257\n",
            "\n",
            "Epoch 00001: val_loss improved from inf to 1.75038, saving model to saved_models/weights.best.VGG19.hdf5\n",
            "Epoch 2/20\n",
            "6680/6680 [==============================] - 1s 197us/step - loss: 0.0428 - accuracy: 0.9882 - val_loss: 1.7050 - val_accuracy: 0.7365\n",
            "\n",
            "Epoch 00002: val_loss improved from 1.75038 to 1.70497, saving model to saved_models/weights.best.VGG19.hdf5\n",
            "Epoch 3/20\n",
            "6680/6680 [==============================] - 1s 196us/step - loss: 0.0269 - accuracy: 0.9907 - val_loss: 1.7916 - val_accuracy: 0.7377\n",
            "\n",
            "Epoch 00003: val_loss did not improve from 1.70497\n",
            "Epoch 4/20\n",
            "6680/6680 [==============================] - 1s 200us/step - loss: 0.0253 - accuracy: 0.9934 - val_loss: 1.7712 - val_accuracy: 0.7485\n",
            "\n",
            "Epoch 00004: val_loss did not improve from 1.70497\n",
            "Epoch 5/20\n",
            "6680/6680 [==============================] - 1s 207us/step - loss: 0.0229 - accuracy: 0.9928 - val_loss: 1.9839 - val_accuracy: 0.7509\n",
            "\n",
            "Epoch 00005: val_loss did not improve from 1.70497\n",
            "Epoch 6/20\n",
            "6680/6680 [==============================] - 1s 206us/step - loss: 0.0202 - accuracy: 0.9946 - val_loss: 1.8527 - val_accuracy: 0.7593\n",
            "\n",
            "Epoch 00006: val_loss did not improve from 1.70497\n",
            "Epoch 7/20\n",
            "6680/6680 [==============================] - 1s 207us/step - loss: 0.0186 - accuracy: 0.9948 - val_loss: 1.8539 - val_accuracy: 0.7509\n",
            "\n",
            "Epoch 00007: val_loss did not improve from 1.70497\n",
            "Epoch 8/20\n",
            "6680/6680 [==============================] - 1s 202us/step - loss: 0.0173 - accuracy: 0.9948 - val_loss: 1.9807 - val_accuracy: 0.7413\n",
            "\n",
            "Epoch 00008: val_loss did not improve from 1.70497\n",
            "Epoch 9/20\n",
            "6680/6680 [==============================] - 1s 204us/step - loss: 0.0162 - accuracy: 0.9957 - val_loss: 1.9508 - val_accuracy: 0.7509\n",
            "\n",
            "Epoch 00009: val_loss did not improve from 1.70497\n",
            "Epoch 10/20\n",
            "6680/6680 [==============================] - 1s 204us/step - loss: 0.0122 - accuracy: 0.9969 - val_loss: 1.9512 - val_accuracy: 0.7545\n",
            "\n",
            "Epoch 00010: val_loss did not improve from 1.70497\n",
            "Epoch 11/20\n",
            "6680/6680 [==============================] - 1s 205us/step - loss: 0.0117 - accuracy: 0.9958 - val_loss: 2.1087 - val_accuracy: 0.7509\n",
            "\n",
            "Epoch 00011: val_loss did not improve from 1.70497\n",
            "Epoch 12/20\n",
            "6680/6680 [==============================] - 1s 194us/step - loss: 0.0101 - accuracy: 0.9975 - val_loss: 2.0034 - val_accuracy: 0.7665\n",
            "\n",
            "Epoch 00012: val_loss did not improve from 1.70497\n",
            "Epoch 13/20\n",
            "6680/6680 [==============================] - 1s 201us/step - loss: 0.0078 - accuracy: 0.9975 - val_loss: 2.0680 - val_accuracy: 0.7581\n",
            "\n",
            "Epoch 00013: val_loss did not improve from 1.70497\n",
            "Epoch 14/20\n",
            "6680/6680 [==============================] - 1s 203us/step - loss: 0.0108 - accuracy: 0.9972 - val_loss: 2.1993 - val_accuracy: 0.7569\n",
            "\n",
            "Epoch 00014: val_loss did not improve from 1.70497\n",
            "Epoch 15/20\n",
            "6680/6680 [==============================] - 1s 201us/step - loss: 0.0068 - accuracy: 0.9982 - val_loss: 2.1738 - val_accuracy: 0.7461\n",
            "\n",
            "Epoch 00015: val_loss did not improve from 1.70497\n",
            "Epoch 16/20\n",
            "6680/6680 [==============================] - 1s 201us/step - loss: 0.0080 - accuracy: 0.9978 - val_loss: 2.2111 - val_accuracy: 0.7473\n",
            "\n",
            "Epoch 00016: val_loss did not improve from 1.70497\n",
            "Epoch 17/20\n",
            "6680/6680 [==============================] - 1s 207us/step - loss: 0.0073 - accuracy: 0.9982 - val_loss: 2.1894 - val_accuracy: 0.7581\n",
            "\n",
            "Epoch 00017: val_loss did not improve from 1.70497\n",
            "Epoch 18/20\n",
            "6680/6680 [==============================] - 1s 201us/step - loss: 0.0091 - accuracy: 0.9976 - val_loss: 2.1326 - val_accuracy: 0.7677\n",
            "\n",
            "Epoch 00018: val_loss did not improve from 1.70497\n",
            "Epoch 19/20\n",
            "6680/6680 [==============================] - 1s 206us/step - loss: 0.0065 - accuracy: 0.9982 - val_loss: 2.1567 - val_accuracy: 0.7605\n",
            "\n",
            "Epoch 00019: val_loss did not improve from 1.70497\n",
            "Epoch 20/20\n",
            "6680/6680 [==============================] - 1s 206us/step - loss: 0.0083 - accuracy: 0.9982 - val_loss: 2.2513 - val_accuracy: 0.7497\n",
            "\n",
            "Epoch 00020: val_loss did not improve from 1.70497\n"
          ],
          "name": "stdout"
        },
        {
          "output_type": "execute_result",
          "data": {
            "text/plain": [
              "<keras.callbacks.callbacks.History at 0x7f359186bba8>"
            ]
          },
          "metadata": {
            "tags": []
          },
          "execution_count": 92
        }
      ]
    },
    {
      "cell_type": "markdown",
      "metadata": {
        "id": "v2OhHAHi6Xy9"
      },
      "source": [
        "### (IMPLEMENTATION) Load the Model with the Best Validation Loss"
      ]
    },
    {
      "cell_type": "code",
      "metadata": {
        "id": "7qZJpVCo6Zox"
      },
      "source": [
        "### TODO: Load the model weights with the best validation loss.\r\n",
        "VGG19_model.load_weights(\"saved_models/weights.best.VGG19.hdf5\")"
      ],
      "execution_count": 88,
      "outputs": []
    },
    {
      "cell_type": "markdown",
      "metadata": {
        "id": "x9bdv4bd6cHc"
      },
      "source": [
        "### (IMPLEMENTATION) Test the Model\r\n",
        "\r\n",
        "Try out your model on the test dataset of dog images. Ensure that your test accuracy is greater than 60%."
      ]
    },
    {
      "cell_type": "code",
      "metadata": {
        "id": "KkUKxTRo6de5",
        "colab": {
          "base_uri": "https://localhost:8080/"
        },
        "outputId": "25c0ef95-f356-4fdd-cfcf-e86834676e46"
      },
      "source": [
        "### TODO: Calculate classification accuracy on the test dataset.\r\n",
        "VGG19_predictions = [np.argmax(VGG19_model.predict(np.expand_dims(feature, axis=0))) for feature in test_VGG19]\r\n",
        "\r\n",
        "test_accuracy = 100*np.sum(np.array(VGG19_predictions)==np.argmax(test_targets, axis=1))/len(VGG19_predictions)\r\n",
        "print('Test accuracy: %.4f%%' % test_accuracy)"
      ],
      "execution_count": 89,
      "outputs": [
        {
          "output_type": "stream",
          "text": [
            "Test accuracy: 74.0431%\n"
          ],
          "name": "stdout"
        }
      ]
    },
    {
      "cell_type": "markdown",
      "metadata": {
        "id": "qf5oq3qi6fOC"
      },
      "source": [
        "### (IMPLEMENTATION) Predict Dog Breed with the Model\r\n",
        "\r\n",
        "Write a function that takes an image path as input and returns the dog breed (`Affenpinscher`, `Afghan_hound`, etc) that is predicted by your model.  \r\n",
        "\r\n",
        "Similar to the analogous function in Step 5, your function should have three steps:\r\n",
        "1. Extract the bottleneck features corresponding to the chosen CNN model.\r\n",
        "2. Supply the bottleneck features as input to the model to return the predicted vector.  Note that the argmax of this prediction vector gives the index of the predicted dog breed.\r\n",
        "3. Use the `dog_names` array defined in Step 0 of this notebook to return the corresponding breed.\r\n",
        "\r\n",
        "The functions to extract the bottleneck features can be found in `extract_bottleneck_features.py`, and they have been imported in an earlier code cell.  To obtain the bottleneck features corresponding to your chosen CNN architecture, you need to use the function\r\n",
        "\r\n",
        "    extract_{network}\r\n",
        "    \r\n",
        "where `{network}`, in the above filename, should be one of `VGG19`, `Resnet50`, `InceptionV3`, or `Xception`."
      ]
    },
    {
      "cell_type": "code",
      "metadata": {
        "id": "KzKuJBr_6hDs"
      },
      "source": [
        "### TODO: Write a function that takes a path to an image as input\r\n",
        "### and returns the dog breed that is predicted by the model.\r\n",
        "from extract_bottleneck_features import *\r\n",
        "\r\n",
        "def VGG19_predict_breed(img_path):\r\n",
        "    bottleneck_feature = extract_VGG19(path_to_tensor(img_path))\r\n",
        "    predicted_vector = VGG19_model.predict(bottleneck_feature)\r\n",
        "    return dog_names[np.argmax(predicted_vector)]"
      ],
      "execution_count": 93,
      "outputs": []
    },
    {
      "cell_type": "markdown",
      "metadata": {
        "id": "OE7UzNby6kUz"
      },
      "source": [
        "---\r\n",
        "<a id='step6'></a>\r\n",
        "## Step 6: Write your Algorithm\r\n",
        "\r\n",
        "Write an algorithm that accepts a file path to an image and first determines whether the image contains a human, dog, or neither.  Then,\r\n",
        "- if a __dog__ is detected in the image, return the predicted breed.\r\n",
        "- if a __human__ is detected in the image, return the resembling dog breed.\r\n",
        "- if __neither__ is detected in the image, provide output that indicates an error.\r\n",
        "\r\n",
        "You are welcome to write your own functions for detecting humans and dogs in images, but feel free to use the `face_detector` and `dog_detector` functions developed above.  You are __required__ to use your CNN from Step 5 to predict dog breed.  \r\n",
        "\r\n",
        "Some sample output for our algorithm is provided below, but feel free to design your own user experience!\r\n",
        "\r\n",
        "![Sample Human Output](images/sample_human_output.png)\r\n",
        "\r\n",
        "\r\n",
        "### (IMPLEMENTATION) Write your Algorithm"
      ]
    },
    {
      "cell_type": "code",
      "metadata": {
        "id": "DVw5RTPm6lOg"
      },
      "source": [
        "### TODO: Write your algorithm.\r\n",
        "### Feel free to use as many code cells as needed."
      ],
      "execution_count": null,
      "outputs": []
    },
    {
      "cell_type": "markdown",
      "metadata": {
        "id": "8S-y5Tf36nFw"
      },
      "source": [
        "---\r\n",
        "<a id='step7'></a>\r\n",
        "## Step 7: Test Your Algorithm\r\n",
        "\r\n",
        "In this section, you will take your new algorithm for a spin!  What kind of dog does the algorithm think that __you__ look like?  If you have a dog, does it predict your dog's breed accurately?  If you have a cat, does it mistakenly think that your cat is a dog?\r\n",
        "\r\n",
        "### (IMPLEMENTATION) Test Your Algorithm on Sample Images!\r\n",
        "\r\n",
        "Test your algorithm at least six images on your computer.  Feel free to use any images you like.  Use at least two human and two dog images.  \r\n",
        "\r\n",
        "__Question 6:__ Is the output better than you expected :) ?  Or worse :( ?  Provide at least three possible points of improvement for your algorithm.\r\n",
        "\r\n",
        "__Answer:__ "
      ]
    },
    {
      "cell_type": "code",
      "metadata": {
        "id": "aWx_Y3gO6pYL"
      },
      "source": [
        "## TODO: Execute your algorithm from Step 6 on\r\n",
        "## at least 6 images on your computer.\r\n",
        "## Feel free to use as many code cells as needed."
      ],
      "execution_count": null,
      "outputs": []
    }
  ]
}